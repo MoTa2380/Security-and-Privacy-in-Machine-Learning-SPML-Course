{
  "cells": [
    {
      "cell_type": "markdown",
      "metadata": {
        "id": "ooJtNr5dGrH9"
      },
      "source": [
        "**Name: Mohammad Taslimi**\n",
        "\n",
        "**Student Number: 99101321**\n",
        "\n",
        "\n"
      ]
    },
    {
      "cell_type": "markdown",
      "metadata": {
        "id": "ZJm9Z1k0cdmh"
      },
      "source": [
        "# Neural-Network with Numpy"
      ]
    },
    {
      "cell_type": "markdown",
      "metadata": {
        "id": "LDN075MYGesD"
      },
      "source": [
        "In this notebook, you are going to write and implement all the components required to create and train a two-layered neural network using NumPy."
      ]
    },
    {
      "cell_type": "markdown",
      "metadata": {
        "id": "wt3FdxgNcdmm"
      },
      "source": [
        "## Imports & Seeding:"
      ]
    },
    {
      "cell_type": "markdown",
      "metadata": {
        "id": "oPZ4zlnxqhl5"
      },
      "source": [
        "Importing some common libraries"
      ]
    },
    {
      "cell_type": "code",
      "execution_count": 6,
      "metadata": {
        "id": "Et7OS7TGcdmn"
      },
      "outputs": [],
      "source": [
        "import numpy as np\n",
        "import pandas as pd\n",
        "import matplotlib.pyplot as plt\n",
        "np.random.seed(123)\n",
        "%matplotlib inline"
      ]
    },
    {
      "cell_type": "markdown",
      "metadata": {
        "id": "Fa2v2-xbcdmo"
      },
      "source": [
        "## Preparing the data"
      ]
    },
    {
      "cell_type": "markdown",
      "metadata": {
        "id": "bKWqV2Gycdmp"
      },
      "source": [
        "You'll train and evaluate your model on [Fashion MNIST](https://en.wikipedia.org/wiki/Fashion_MNIST) dataset. In this section, you'll download Fashion MNIST and split it into training and testing datasets."
      ]
    },
    {
      "cell_type": "code",
      "execution_count": 7,
      "metadata": {
        "id": "tMYZtSoLc7c-",
        "colab": {
          "base_uri": "https://localhost:8080/"
        },
        "outputId": "6728d4bf-d0df-4796-8000-0bfd9d8867f3"
      },
      "outputs": [
        {
          "output_type": "stream",
          "name": "stdout",
          "text": [
            "(70000, 784) (70000,)\n"
          ]
        }
      ],
      "source": [
        "from sklearn.datasets import fetch_openml\n",
        "\n",
        "# Using `fetch_openml`, download `Fashion-MNIST`\n",
        "# and save the training data and labels in `X` and `y` respectively.\n",
        "#############################\n",
        "# Your code goes here (5 points)\n",
        "X, y = fetch_openml('Fashion-MNIST', version=1, parser='auto', return_X_y=True)\n",
        "#############################\n",
        "\n",
        "# Normalization:\n",
        "X = ((X / 255.) - .5) * 2\n",
        "\n",
        "print(X.shape, y.shape)"
      ]
    },
    {
      "cell_type": "code",
      "execution_count": 8,
      "metadata": {
        "id": "sDmxyMJ4dBk3",
        "colab": {
          "base_uri": "https://localhost:8080/"
        },
        "outputId": "0013a61f-702e-49cb-fdd5-9f451f80acd4"
      },
      "outputs": [
        {
          "output_type": "stream",
          "name": "stdout",
          "text": [
            "(60000, 784) (60000,) (10000, 784) (10000,)\n"
          ]
        }
      ],
      "source": [
        "from sklearn.model_selection import train_test_split\n",
        "\n",
        "# Using `train_test_split`, split your data into two sets.\n",
        "# Set the test_size to 10000\n",
        "\n",
        "#############################\n",
        "# Your code goes here (6 points)\n",
        "x_train, x_test, y_train, y_test = train_test_split(X, y, test_size=10000, random_state=123)\n",
        "#############################\n",
        "\n",
        "print(x_train.shape, y_train.shape, x_test.shape, y_test.shape)"
      ]
    },
    {
      "cell_type": "markdown",
      "metadata": {
        "id": "PiGTXGXKcdmt"
      },
      "source": [
        "## Prepare training & validation sets"
      ]
    },
    {
      "cell_type": "markdown",
      "metadata": {
        "id": "ba3nNYlDcdmt"
      },
      "source": [
        "We'll use only 3 classes from Fashion MNIST: Trouser, T-shirt, and Sneaker classes.\n",
        "\n",
        "The class labels for T-shirt, Trouser, and Sneaker are 0, 1, and 7 respectively.\n",
        "\n",
        "In this part, you'll limit the testing and training sets to only these three classes."
      ]
    },
    {
      "cell_type": "code",
      "execution_count": 9,
      "metadata": {
        "id": "TcBDZEtzcdmu",
        "colab": {
          "base_uri": "https://localhost:8080/"
        },
        "outputId": "de2dfff8-0068-49ef-a46f-eddac72497e3"
      },
      "outputs": [
        {
          "output_type": "stream",
          "name": "stdout",
          "text": [
            "(18017, 784) (18017,)\n"
          ]
        }
      ],
      "source": [
        "# Modify `y_train` and `x_train`.\n",
        "# Only keep the 3 classes mentioned above.\n",
        "#############################\n",
        "# Your code goes here (4 points)\n",
        "\n",
        "\n",
        "\n",
        "# Define the classes we are interested in\n",
        "classes = ['0', '1', '7']\n",
        "\n",
        "# Convert y_train and y_test to numpy arrays for easier processing\n",
        "y_train = y_train.to_numpy()\n",
        "\n",
        "# Get the indices of the samples belonging to the above classes in the training set\n",
        "indices_train = np.where(np.isin(y_train, classes))[0]\n",
        "\n",
        "# Keep only the samples of the above classes in the training set\n",
        "x_train = x_train.iloc[indices_train]\n",
        "y_train = y_train[indices_train]\n",
        "\n",
        "x_train = x_train.to_numpy()\n",
        "\n",
        "\n",
        "\n",
        "\n",
        "#############################\n",
        "print(x_train.shape, y_train.shape)"
      ]
    },
    {
      "cell_type": "code",
      "execution_count": 10,
      "metadata": {
        "id": "LX2hkRe1cdmw",
        "colab": {
          "base_uri": "https://localhost:8080/"
        },
        "outputId": "87f46158-b2ce-4a9b-c4d1-e6cc98dcb3da"
      },
      "outputs": [
        {
          "output_type": "stream",
          "name": "stdout",
          "text": [
            "(2983, 784) (2983,)\n"
          ]
        }
      ],
      "source": [
        "# Modify `y_test` and `x_test`.\n",
        "# Only keep the 3 classes mentioned above.\n",
        "#############################\n",
        "# Your code goes here (4 points)\n",
        "\n",
        "y_test = y_test.to_numpy()\n",
        "\n",
        "# Get the indices of the samples belonging to the above classes in the testing set\n",
        "indices_test = np.where(np.isin(y_test, classes))[0]\n",
        "\n",
        "# Keep only the samples of the above classes in the testing set\n",
        "x_test = x_test.iloc[indices_test]\n",
        "y_test = y_test[indices_test]\n",
        "x_test = x_test.to_numpy()\n",
        "#############################\n",
        "\n",
        "print(x_test.shape, y_test.shape)"
      ]
    },
    {
      "cell_type": "markdown",
      "metadata": {
        "id": "Gv6SMLUktWbv"
      },
      "source": [
        "## Linear & Activation Functions"
      ]
    },
    {
      "cell_type": "markdown",
      "metadata": {
        "id": "IXlyJo5JteKC"
      },
      "source": [
        "In this part, you'll implement the forward and backward process for the following components:\n",
        "- Softmax Layer\n",
        "- Linear Layer\n",
        "- ReLU Layer\n",
        "- Sigmoid Layer"
      ]
    },
    {
      "cell_type": "markdown",
      "metadata": {
        "id": "BXtAD5uYA4sQ"
      },
      "source": [
        "### The `Softmax` Layer"
      ]
    },
    {
      "cell_type": "code",
      "execution_count": 11,
      "metadata": {
        "id": "tzaIVo-_Axp7"
      },
      "outputs": [],
      "source": [
        "class SoftMaxLayer(object):\n",
        "    def __init__(self):\n",
        "        self.inp = None\n",
        "        self.output = None\n",
        "\n",
        "    def forward(self, x):\n",
        "        # Write the forward pass for softmax.\n",
        "        # Save the values required for the backward pass.\n",
        "        #############################\n",
        "        # Your code goes here (4 points)\n",
        "        self.inp = x\n",
        "        exps = np.exp(x - np.max(x, axis=1, keepdims=True))\n",
        "        self.output = exps / np.sum(exps, axis=1, keepdims=True)\n",
        "        #############################\n",
        "        return self.output\n",
        "\n",
        "    def backward(self, up_grad):\n",
        "        # Write the backward pass for softmax.\n",
        "        #############################\n",
        "        # Your code goes here (4 points)\n",
        "        grad = self.output * (up_grad - np.sum(self.output * up_grad, axis=1, keepdims=True))\n",
        "        return grad\n",
        "        #############################\n",
        "\n",
        "    def step(self, optimizer):\n",
        "      pass"
      ]
    },
    {
      "cell_type": "markdown",
      "metadata": {
        "id": "AcFoIDZjcdnB"
      },
      "source": [
        "### The `Linear` Layer"
      ]
    },
    {
      "cell_type": "code",
      "execution_count": 22,
      "metadata": {
        "id": "1strsTh6cdnG"
      },
      "outputs": [],
      "source": [
        "class Linear:\n",
        "    def __init__(self, in_dim, out_dim):\n",
        "        # Initialize the layer's weights and biases\n",
        "        #############################\n",
        "        # Your code goes here (2 points)\n",
        "\n",
        "        # self.w = np.random.randn(out_dim, in_dim) * 0.01\n",
        "        # self.b = np.zeros((out_dim, 1))\n",
        "\n",
        "\n",
        "        self.w = np.random.randn(in_dim, out_dim) * np.sqrt(2. / in_dim)\n",
        "        self.b = np.zeros((1, out_dim))\n",
        "        self.inp = None\n",
        "\n",
        "        #############################\n",
        "        self.dw = None\n",
        "        self.db = None\n",
        "        self.dx = None\n",
        "\n",
        "\n",
        "    def forward(self, inp):\n",
        "        # Compute linear layer's output.\n",
        "        # Save the value(s) required for the backward phase.\n",
        "        #############################\n",
        "        # Your code goes here (4 points)\n",
        "        self.inp = inp\n",
        "        z = np.dot(inp, self.w) + self.b\n",
        "        # z = self.w @ inp + self.b\n",
        "        #############################\n",
        "\n",
        "        return z\n",
        "\n",
        "    def backward(self, up_grad):\n",
        "        # Calculate the gradient with respect to the weights\n",
        "        # and biases and save the results.\n",
        "        #############################\n",
        "        # Your code goes here (6 points)\n",
        "        inp_2d = np.atleast_2d(self.inp)\n",
        "        self.dw = np.dot(inp_2d.T, up_grad)\n",
        "        self.db = np.sum(up_grad, axis=0, keepdims=True)\n",
        "        down_grad = np.dot(up_grad, self.w.T)\n",
        "        #############################\n",
        "        return down_grad\n",
        "\n",
        "    def step(self, optimizer):\n",
        "      # Update the layer's weights and biases\n",
        "      # Update previous_w_update and previous_b_update accordingly\n",
        "      #############################\n",
        "      # Your code goes here (5 points)\n",
        "      self.w  = optimizer.get_next_update(self.w, self.dw)\n",
        "      self.b = optimizer.get_next_update(self.b, self.db)\n",
        "      #############################"
      ]
    },
    {
      "cell_type": "markdown",
      "metadata": {
        "id": "M0Lfo-nhcdnG"
      },
      "source": [
        "### The `ReLU` Layer"
      ]
    },
    {
      "cell_type": "code",
      "execution_count": 13,
      "metadata": {
        "id": "tN6vcirMcdnH"
      },
      "outputs": [],
      "source": [
        "class RelU:\n",
        "    def __init__(self):\n",
        "        self.inp = None\n",
        "\n",
        "    def forward(self, inp):\n",
        "        # Write the forward pass for ReLU.\n",
        "        # Save the value(s) required for the backward pass.\n",
        "        #############################\n",
        "        # Your code goes here (4 points)\n",
        "        self.inp = inp\n",
        "        output = np.maximum(0, inp)\n",
        "        #############################\n",
        "        return output\n",
        "\n",
        "    def backward(self, up_grad):\n",
        "        #############################\n",
        "        # Your code goes here (4 points)\n",
        "        down_grad = up_grad * (self.inp > 0)\n",
        "        return down_grad\n",
        "\n",
        "    def step(self, optimizer):\n",
        "      pass"
      ]
    },
    {
      "cell_type": "markdown",
      "metadata": {
        "id": "Z00KoSI3cdnJ"
      },
      "source": [
        "### The `sigmoid` Layer"
      ]
    },
    {
      "cell_type": "code",
      "execution_count": 14,
      "metadata": {
        "id": "TTYYeL2lcdnJ"
      },
      "outputs": [],
      "source": [
        "class Sigmoid:\n",
        "    def __init__(self):\n",
        "        self.out = None\n",
        "\n",
        "    def forward(self, inp):\n",
        "        #############################\n",
        "        # Your code goes here (4 points)\n",
        "        self.out = 1 / (1 + np.exp(-inp))\n",
        "        #############################\n",
        "        return self.out\n",
        "\n",
        "    def backward(self, up_grad):\n",
        "        #############################\n",
        "        # Your code goes here (4 points)\n",
        "        down_grad = up_grad * self.out * (1 - self.out)\n",
        "        #############################\n",
        "        return down_grad\n",
        "\n",
        "    def step(self, optimizer):\n",
        "      pass"
      ]
    },
    {
      "cell_type": "markdown",
      "metadata": {
        "id": "zngleGY2cdnK"
      },
      "source": [
        "## `Loss` function :"
      ]
    },
    {
      "cell_type": "markdown",
      "metadata": {
        "id": "ISedT4FvcdnK"
      },
      "source": [
        "For this task we are going to use the [Cross-Entropy Loss](https://en.wikipedia.org/wiki/Cross_entropy)."
      ]
    },
    {
      "cell_type": "code",
      "execution_count": 16,
      "metadata": {
        "id": "XQyz4ybycdnL"
      },
      "outputs": [],
      "source": [
        "class CELoss():\n",
        "    def __init__(self):\n",
        "      self.yhat = None\n",
        "      self.y = None\n",
        "\n",
        "    def forward(self, pred, target):\n",
        "        m = pred.shape[0]\n",
        "        self.yhat = pred\n",
        "        self.y = target\n",
        "\n",
        "        # Commpute and return the loss\n",
        "        #############################\n",
        "        # Your code goes here (8 points)\n",
        "        loss = -1/m * np.sum(target * np.log(pred))\n",
        "        return loss\n",
        "        #############################\n",
        "\n",
        "\n",
        "    def backward(self):\n",
        "        # Derivative of loss_fn with respect to a the predicted label.\n",
        "        # Use `self.y` and `self.yhat` to compute and return `grad`.\n",
        "        #############################\n",
        "        # Your code goes here (6 points)\n",
        "        m = self.y.shape[0]\n",
        "        grad = -1/m * (self.y / self.yhat)\n",
        "        #############################\n",
        "        return grad"
      ]
    },
    {
      "cell_type": "markdown",
      "metadata": {
        "id": "xovZI-70kB9I"
      },
      "source": [
        "## Optimizer\n",
        "\n",
        "In this section, you'll implement an optimizer classes\n"
      ]
    },
    {
      "cell_type": "code",
      "execution_count": 17,
      "metadata": {
        "id": "h5ADTi5tkVTS"
      },
      "outputs": [],
      "source": [
        "class GradientDescent(object):\n",
        "    def __init__(self, lr):\n",
        "        self.lr = lr\n",
        "\n",
        "    def get_next_update(self, x, dx):\n",
        "        # Compute the new value for 'x' and return the result\n",
        "        #############################\n",
        "        # Your code goes here (2 points)\n",
        "        x = x - self.lr * dx\n",
        "        return x\n",
        "        #############################"
      ]
    },
    {
      "cell_type": "markdown",
      "metadata": {
        "id": "LxxrEEovYEFi"
      },
      "source": [
        "## The Model\n",
        "Now you'll write the base class for a multi-layer perceptron network."
      ]
    },
    {
      "cell_type": "code",
      "execution_count": 18,
      "metadata": {
        "id": "t8SoZeYRcdnY"
      },
      "outputs": [],
      "source": [
        "class MLP:\n",
        "    def __init__(self, layers, loss_fn, optimizer):\n",
        "        self.layers = layers\n",
        "        self.losses  = []\n",
        "        self.loss_fn = loss_fn\n",
        "        self.optimizer = optimizer\n",
        "\n",
        "    def forward(self, inp):\n",
        "        # Pass `inp` to all the layers sequentially\n",
        "        # and return the result.\n",
        "        #############################\n",
        "        # Your code goes here (4 points)\n",
        "        out = inp\n",
        "        for layer in self.layers:\n",
        "          out = layer.forward(out)\n",
        "\n",
        "        return out\n",
        "        #############################\n",
        "\n",
        "    def loss(self, pred, label):\n",
        "        loss = self.loss_fn.forward(pred, label)\n",
        "        self.losses.append(loss)\n",
        "        return loss\n",
        "\n",
        "    def backward(self):\n",
        "        # Start with loss function's gradient and\n",
        "        # do the backward pass on all the layers.\n",
        "        #############################\n",
        "        # Your code goes here (5 points)\n",
        "        grad = self.loss_fn.backward()\n",
        "        for layer in reversed(self.layers):\n",
        "          grad = layer.backward(grad)\n",
        "        #############################\n",
        "\n",
        "    def update(self):\n",
        "        for layer in self.layers:\n",
        "          layer.step(self.optimizer)"
      ]
    },
    {
      "cell_type": "markdown",
      "metadata": {
        "id": "zo0rNwYciueF"
      },
      "source": [
        "The following cell encodes training labels into a one-hot representation with 3 classes."
      ]
    },
    {
      "cell_type": "code",
      "execution_count": 19,
      "metadata": {
        "id": "nhJTulaFJ4vR",
        "colab": {
          "base_uri": "https://localhost:8080/"
        },
        "outputId": "2ea187a1-0fea-427a-8e11-c1bfddc4e7de"
      },
      "outputs": [
        {
          "output_type": "stream",
          "name": "stdout",
          "text": [
            "(18017, 3)\n",
            "(2983, 3)\n"
          ]
        }
      ],
      "source": [
        "def onehot_enc(y, num_labels):\n",
        "    y = np.array(y).astype(int)\n",
        "    ary = np.zeros((y.shape[0], num_labels))\n",
        "    print(ary.shape)\n",
        "    for i, val in enumerate(y):\n",
        "        if val == 7:\n",
        "          ary[i, 2] = 1\n",
        "        else:\n",
        "          ary[i, val] = 1\n",
        "    return ary\n",
        "\n",
        "y_train = onehot_enc(y_train, 3)\n",
        "y_test = onehot_enc(y_test, 3)"
      ]
    },
    {
      "cell_type": "code",
      "execution_count": 45,
      "metadata": {
        "id": "TS6S_RUwsRkF"
      },
      "outputs": [],
      "source": [
        "def train(model, epochs, x_train, y_train):\n",
        "    for n in range(epochs):\n",
        "      # First do the forward pass. Next, compute the loss.\n",
        "      # Then do the backward pass and finally, update the parameters.\n",
        "      #############################\n",
        "      # Your code goes here (4 points)\n",
        "\n",
        "      pred = model.forward(x_train) # forward pass\n",
        "      loss = model.loss(pred, y_train) # compute loss\n",
        "      model.backward() # backward pass\n",
        "      model.update() # update parameters\n",
        "      #############################\n",
        "      print(f\"Loss at {n}: {loss:.3f}\")"
      ]
    },
    {
      "cell_type": "code",
      "execution_count": 57,
      "metadata": {
        "id": "m1lSq2jNcdnY",
        "scrolled": false,
        "colab": {
          "base_uri": "https://localhost:8080/"
        },
        "outputId": "b6f6d10d-75be-4173-93d7-adabed99aacd"
      },
      "outputs": [
        {
          "output_type": "stream",
          "name": "stdout",
          "text": [
            "Loss at 0: 1.136\n",
            "Loss at 1: 0.986\n",
            "Loss at 2: 0.861\n",
            "Loss at 3: 0.805\n",
            "Loss at 4: 0.771\n",
            "Loss at 5: 0.746\n",
            "Loss at 6: 0.726\n",
            "Loss at 7: 0.709\n",
            "Loss at 8: 0.695\n",
            "Loss at 9: 0.683\n",
            "Loss at 10: 0.672\n",
            "Loss at 11: 0.664\n",
            "Loss at 12: 0.656\n",
            "Loss at 13: 0.650\n",
            "Loss at 14: 0.644\n",
            "Loss at 15: 0.640\n",
            "Loss at 16: 0.635\n",
            "Loss at 17: 0.631\n",
            "Loss at 18: 0.628\n",
            "Loss at 19: 0.625\n",
            "Loss at 20: 0.622\n",
            "Loss at 21: 0.620\n",
            "Loss at 22: 0.617\n",
            "Loss at 23: 0.615\n",
            "Loss at 24: 0.613\n",
            "Loss at 25: 0.612\n",
            "Loss at 26: 0.610\n",
            "Loss at 27: 0.608\n",
            "Loss at 28: 0.607\n",
            "Loss at 29: 0.606\n",
            "Loss at 30: 0.604\n",
            "Loss at 31: 0.603\n",
            "Loss at 32: 0.602\n",
            "Loss at 33: 0.601\n",
            "Loss at 34: 0.600\n",
            "Loss at 35: 0.599\n",
            "Loss at 36: 0.598\n",
            "Loss at 37: 0.598\n",
            "Loss at 38: 0.597\n",
            "Loss at 39: 0.596\n",
            "Loss at 40: 0.595\n",
            "Loss at 41: 0.595\n",
            "Loss at 42: 0.594\n",
            "Loss at 43: 0.594\n",
            "Loss at 44: 0.593\n",
            "Loss at 45: 0.592\n",
            "Loss at 46: 0.592\n",
            "Loss at 47: 0.591\n",
            "Loss at 48: 0.591\n",
            "Loss at 49: 0.590\n"
          ]
        }
      ],
      "source": [
        "# Instantiate the `MLP` with the following structure:\n",
        "#     Linear with 50 units --> ReLU --> Linear with 50 units --> ReLU --> Linear with 3 units --> Sigmoid --> Softmax\n",
        "# Use GradientDescent as the optimizer, set the learning rate to 0.001, and use CELoss as the loss function.\n",
        "#############################\n",
        "# Your code goes here (4 points)\n",
        "nn = MLP(\n",
        "    layers=[\n",
        "        Linear(784, 50), # Input dimension is 784, output dimension is 50\n",
        "        RelU(), # Activation function for the first hidden layer\n",
        "        Linear(50, 50), # Input and output dimension are both 50\n",
        "        RelU(), # Activation function for the second hidden layer\n",
        "        Linear(50, 3), # Input dimension is 50, output dimension is 3\n",
        "        Sigmoid(), # Activation function for the output layer\n",
        "        SoftMaxLayer() # Softmax layer for the final output\n",
        "    ],\n",
        "    loss_fn=CELoss(), # Use cross-entropy loss as the loss function\n",
        "    optimizer=GradientDescent(lr=0.1) # Use gradient descent as the optimizer with learning rate 0.001\n",
        ")\n",
        "#############################\n",
        "\n",
        "epochs = 50\n",
        "\n",
        "# Train the network using only `x_train` and `y_train` (no validation)\n",
        "train(nn, epochs, x_train, y_train)"
      ]
    },
    {
      "cell_type": "markdown",
      "metadata": {
        "id": "uJec2xRJmY37"
      },
      "source": [
        "Let's plot the loss value for each iteration"
      ]
    },
    {
      "cell_type": "code",
      "execution_count": 58,
      "metadata": {
        "id": "ymaQNn70cdnZ",
        "colab": {
          "base_uri": "https://localhost:8080/",
          "height": 472
        },
        "outputId": "9e3e1e6b-a91f-4d56-dc69-0eb5a2b7aadd"
      },
      "outputs": [
        {
          "output_type": "display_data",
          "data": {
            "text/plain": [
              "<Figure size 640x480 with 1 Axes>"
            ],
            "image/png": "[encoded data removed]"
          },
          "metadata": {}
        }
      ],
      "source": [
        "plt.plot(nn.losses)\n",
        "plt.title(\"Training loss\")\n",
        "plt.xlabel(\"Iteration\")\n",
        "plt.ylabel(\"Loss\");"
      ]
    },
    {
      "cell_type": "markdown",
      "metadata": {
        "id": "dz3yqRa1cdna"
      },
      "source": [
        "**Let's also check our model's performance using the `accuracy` metric on the `testing` dataset**"
      ]
    },
    {
      "cell_type": "code",
      "execution_count": 59,
      "metadata": {
        "id": "TRqwXho7cdnd",
        "colab": {
          "base_uri": "https://localhost:8080/"
        },
        "outputId": "98f068ce-e66c-456b-ff36-226270cf1cf1"
      },
      "outputs": [
        {
          "output_type": "stream",
          "name": "stdout",
          "text": [
            "0.9792155548105934\n"
          ]
        }
      ],
      "source": [
        "# Compute the accuracy on the testing set\n",
        "#############################\n",
        "# Your code goes here (7 points)\n",
        "\n",
        "# Get the predictions on the testing set\n",
        "pred = nn.forward(x_test)\n",
        "# Compare the predictions with the true labels and count the correct matches\n",
        "correct = np.sum(pred.argmax(1) == y_test.argmax(1))\n",
        "\n",
        "# Calculate the accuracy score\n",
        "acc = correct / x_test.shape[0]\n",
        "\n",
        "#############################\n",
        "\n",
        "print(acc)"
      ]
    }
  ],
  "metadata": {
    "colab": {
      "provenance": []
    },
    "gpuClass": "standard",
    "kernelspec": {
      "display_name": "Python 3 (ipykernel)",
      "language": "python",
      "name": "python3"
    },
    "language_info": {
      "codemirror_mode": {
        "name": "ipython",
        "version": 3
      },
      "file_extension": ".py",
      "mimetype": "text/x-python",
      "name": "python",
      "nbconvert_exporter": "python",
      "pygments_lexer": "ipython3",
      "version": "3.11.3"
    }
  },
  "nbformat": 4,
  "nbformat_minor": 0
}