{
  "nbformat": 4,
  "nbformat_minor": 0,
  "metadata": {
    "colab": {
      "provenance": [],
      "gpuType": "T4"
    },
    "kernelspec": {
      "name": "python3",
      "display_name": "Python 3"
    },
    "language_info": {
      "name": "python"
    },
    "accelerator": "GPU"
  },
  "cells": [
    {
      "cell_type": "markdown",
      "source": [
        "Student Name: Mohammad Taslimi\n",
        "\n",
        "Student ID: 99101321"
      ],
      "metadata": {
        "id": "lmgHua3ljxzx"
      }
    },
    {
      "cell_type": "markdown",
      "source": [
        "# Data Loading and Visulization [30 pts]"
      ],
      "metadata": {
        "id": "lojrM53-5Mjc"
      }
    },
    {
      "cell_type": "markdown",
      "source": [
        "## Loading Data [20 pts]\n",
        "\n"
      ],
      "metadata": {
        "id": "jk0Fts9l6Bj1"
      }
    },
    {
      "cell_type": "code",
      "source": [
        "import torch\n",
        "from torchvision import datasets, transforms\n",
        "import matplotlib.pyplot as plt\n",
        "import numpy as np\n",
        "\n",
        "def load_data(batch_size=128, shuffle=True):\n",
        "    \"\"\"\n",
        "    Function to load the MNIST dataset using PyTorch DataLoader.\n",
        "\n",
        "    Parameters:\n",
        "    - batch_size: Batch size for training (default is 64).\n",
        "    - shuffle: Whether to shuffle the dataset (default is True).\n",
        "\n",
        "    Returns:\n",
        "    - train_loader: DataLoader for training data.\n",
        "    - test_loader: DataLoader for test data.\n",
        "    \"\"\"\n",
        "    transform = transforms.Compose([\n",
        "        transforms.ToTensor(),\n",
        "        transforms.Normalize((0.5,), (0.5,))\n",
        "    ])\n",
        "\n",
        "    # ToDo\n",
        "    train_dataset = datasets.MNIST(root='./data', train=True, download=True, transform=transform)\n",
        "    test_dataset = datasets.MNIST(root='./data', train=False, download=True, transform=transform)\n",
        "\n",
        "    train_loader = torch.utils.data.DataLoader(train_dataset, batch_size=batch_size, shuffle=shuffle)\n",
        "    test_loader = torch.utils.data.DataLoader(test_dataset, batch_size=batch_size, shuffle=False)\n",
        "\n",
        "    return train_loader, test_loader\n",
        "\n",
        "\n",
        "def show_images(train_loader):\n",
        "    \"\"\"\n",
        "    Function to display samples of data.\n",
        "\n",
        "    Parameters:\n",
        "    - train_loader: Image tensor loader.\n",
        "    \"\"\"\n",
        "\n",
        "def show_images(train_loader):\n",
        "    \"\"\"\n",
        "    Function to display samples of data.\n",
        "\n",
        "    Parameters:\n",
        "    - train_loader: Image tensor loader.\n",
        "    \"\"\"\n",
        "\n",
        "    images, labels = next(iter(train_loader))\n",
        "\n",
        "    plt.figure(figsize=(8,8))\n",
        "    for i in range(16):\n",
        "        plt.subplot(4,4,i+1)\n",
        "        plt.imshow(images[i].squeeze(), cmap='gray')\n",
        "        plt.title(f'Label: {labels[i].item()}')\n",
        "        plt.axis(False)\n",
        "    plt.show()\n"
      ],
      "metadata": {
        "id": "xx4TulnO5PRq"
      },
      "execution_count": null,
      "outputs": []
    },
    {
      "cell_type": "code",
      "source": [
        "# Load the MNIST dataset\n",
        "train_loader, test_loader = load_data()\n",
        "\n",
        "# Visualize a batch of images from the training data\n",
        "show_images(train_loader)"
      ],
      "metadata": {
        "id": "iCt8bAtt5vbX",
        "colab": {
          "base_uri": "https://localhost:8080/",
          "height": 675
        },
        "outputId": "acf98663-201c-4920-cfad-134a21c8ceca"
      },
      "execution_count": null,
      "outputs": [
        {
          "output_type": "display_data",
          "data": {
            "text/plain": [
              "<Figure size 800x800 with 16 Axes>"
            ],
            "image/png": "[encoded data removed]"
          },
          "metadata": {}
        }
      ]
    },
    {
      "cell_type": "markdown",
      "source": [
        "# Model Training [80 pts]"
      ],
      "metadata": {
        "id": "OgzZ_CW46WEK"
      }
    },
    {
      "cell_type": "markdown",
      "source": [
        "## Model Definition [20 pts]"
      ],
      "metadata": {
        "id": "Qlaoe9VR6j9w"
      }
    },
    {
      "cell_type": "code",
      "source": [
        "import torch.nn as nn\n",
        "import torch.nn.functional as F\n",
        "\n",
        "class MLP(nn.Module):\n",
        "    \"\"\"\n",
        "    Simple multi layer perceptron (MLP) class.\n",
        "    \"\"\"\n",
        "\n",
        "    def __init__(self):\n",
        "        super().__init__()\n",
        "        self.flatten = nn.Flatten()\n",
        "        self.linear_relu_stack = nn.Sequential(\n",
        "            nn.Linear(28*28, 512),\n",
        "            nn.ReLU(),\n",
        "            nn.Linear(512, 10),\n",
        "        )\n",
        "\n",
        "    def forward(self, x):\n",
        "        \"\"\"\n",
        "        Forward pass method to define how input data flows through the network layers.\n",
        "\n",
        "        Parameters:\n",
        "        - x: Input tensor.\n",
        "\n",
        "        Returns:\n",
        "        - out: Output tensor.\n",
        "        \"\"\"\n",
        "\n",
        "        x = self.flatten(x)\n",
        "        out = self.linear_relu_stack(x)\n",
        "        return out\n"
      ],
      "metadata": {
        "id": "JftTjpaO6k_x"
      },
      "execution_count": null,
      "outputs": []
    },
    {
      "cell_type": "code",
      "source": [
        "from torchsummary import summary\n",
        "\n",
        "device = torch.device(\"cuda:0\" if torch.cuda.is_available() else \"cpu\")\n",
        "# Create an instance of the MLP\n",
        "model = MLP().to(device)\n",
        "\n",
        "# Display model summary\n",
        "summary(model, (1, 28, 28))\n"
      ],
      "metadata": {
        "id": "Ht2fRwhY6XKX",
        "colab": {
          "base_uri": "https://localhost:8080/"
        },
        "outputId": "02b9e6fb-047b-4785-d981-4ee31dbf7ad6"
      },
      "execution_count": null,
      "outputs": [
        {
          "output_type": "stream",
          "name": "stdout",
          "text": [
            "----------------------------------------------------------------\n",
            "        Layer (type)               Output Shape         Param #\n",
            "================================================================\n",
            "           Flatten-1                  [-1, 784]               0\n",
            "            Linear-2                  [-1, 512]         401,920\n",
            "              ReLU-3                  [-1, 512]               0\n",
            "            Linear-4                   [-1, 10]           5,130\n",
            "================================================================\n",
            "Total params: 407,050\n",
            "Trainable params: 407,050\n",
            "Non-trainable params: 0\n",
            "----------------------------------------------------------------\n",
            "Input size (MB): 0.00\n",
            "Forward/backward pass size (MB): 0.01\n",
            "Params size (MB): 1.55\n",
            "Estimated Total Size (MB): 1.57\n",
            "----------------------------------------------------------------\n"
          ]
        }
      ]
    },
    {
      "cell_type": "markdown",
      "source": [
        "## Training the model [30 pts]"
      ],
      "metadata": {
        "id": "N44Ur_Dy63qe"
      }
    },
    {
      "cell_type": "markdown",
      "source": [
        "Complete this function! Try to tune the parameters of Epoch and Learning Rate to get best results on the test set. You must achieve accuracy > 80% on test set to get the full grade"
      ],
      "metadata": {
        "id": "mSXZQqui7L8q"
      }
    },
    {
      "cell_type": "code",
      "source": [
        "import torch.optim as optim\n",
        "import torch.nn.functional as F\n",
        "\n",
        "def evaluate_model(model, test_loader):\n",
        "    \"\"\"\n",
        "    Function to evaluate the trained MLP model on the test set.\n",
        "\n",
        "    Parameters:\n",
        "    - model: Trained CNN model.\n",
        "    - test_loader: DataLoader for test data.\n",
        "    \"\"\"\n",
        "    correct = 0\n",
        "    total = 0\n",
        "    with torch.no_grad():\n",
        "        for data in test_loader:\n",
        "            images, labels = data[0].to(device), data[1].to(device)\n",
        "            outputs = model(images)\n",
        "            _, predicted = torch.max(outputs.data, 1)\n",
        "            total += labels.size(0)\n",
        "            correct += (predicted == labels).sum().item()\n",
        "\n",
        "    print('Accuracy on the test set: %d %%' % (100 * correct / total))\n",
        "\n",
        "\n",
        "\n",
        "def train_model(model, train_loader, test_loader, epochs=10, learning_rate=1e-3):\n",
        "    \"\"\"\n",
        "    Function to train the MLP model.\n",
        "\n",
        "    Parameters:\n",
        "    - model: MLP model to be trained.\n",
        "    - train_loader: DataLoader for training data.\n",
        "    - test_loader: DataLoader for test data.\n",
        "    - epochs: Number of epochs for training (default is 5).\n",
        "    - learning_rate: Learning rate for optimization (default is 0.001).\n",
        "    \"\"\"\n",
        "\n",
        "    criterion = torch.nn.CrossEntropyLoss()\n",
        "    optimizer = optim.Adam(model.parameters(), lr=learning_rate)\n",
        "\n",
        "    # Training loop\n",
        "    for epoch in range(1, epochs + 1):\n",
        "        running_loss = 0.0\n",
        "\n",
        "        for i, data in enumerate(train_loader, 0):\n",
        "\n",
        "            inputs, labels = data[0].to(device), data[1].to(device)\n",
        "            optimizer.zero_grad()\n",
        "\n",
        "            outputs = model(inputs)\n",
        "            loss = criterion(outputs, labels)\n",
        "            loss.backward()\n",
        "            optimizer.step()\n",
        "\n",
        "            running_loss += loss.item()\n",
        "            if i % 100 == 99:\n",
        "                print('[Epoch %d, Batch %5d] Loss: %.3f' %\n",
        "                      (epoch, i + 1, running_loss / 100))\n",
        "                running_loss = 0.0\n",
        "\n",
        "        evaluate_model(model, test_loader)\n",
        "\n",
        "    print('Training finished')\n",
        "\n",
        "train_model(model, train_loader, test_loader, epochs=10, learning_rate=1e-3)"
      ],
      "metadata": {
        "id": "_vTRAU0T7CKn",
        "colab": {
          "base_uri": "https://localhost:8080/"
        },
        "outputId": "66db0a1f-d8d7-45fe-f033-660380b157b7"
      },
      "execution_count": null,
      "outputs": [
        {
          "output_type": "stream",
          "name": "stdout",
          "text": [
            "[Epoch 1, Batch   100] Loss: 0.631\n",
            "[Epoch 1, Batch   200] Loss: 0.348\n",
            "[Epoch 1, Batch   300] Loss: 0.305\n",
            "[Epoch 1, Batch   400] Loss: 0.256\n",
            "Accuracy on the test set: 94 %\n",
            "[Epoch 2, Batch   100] Loss: 0.182\n",
            "[Epoch 2, Batch   200] Loss: 0.165\n",
            "[Epoch 2, Batch   300] Loss: 0.162\n",
            "[Epoch 2, Batch   400] Loss: 0.143\n",
            "Accuracy on the test set: 96 %\n",
            "[Epoch 3, Batch   100] Loss: 0.126\n",
            "[Epoch 3, Batch   200] Loss: 0.111\n",
            "[Epoch 3, Batch   300] Loss: 0.114\n",
            "[Epoch 3, Batch   400] Loss: 0.107\n",
            "Accuracy on the test set: 96 %\n",
            "[Epoch 4, Batch   100] Loss: 0.089\n",
            "[Epoch 4, Batch   200] Loss: 0.086\n",
            "[Epoch 4, Batch   300] Loss: 0.084\n",
            "[Epoch 4, Batch   400] Loss: 0.086\n",
            "Accuracy on the test set: 97 %\n",
            "[Epoch 5, Batch   100] Loss: 0.075\n",
            "[Epoch 5, Batch   200] Loss: 0.066\n",
            "[Epoch 5, Batch   300] Loss: 0.077\n",
            "[Epoch 5, Batch   400] Loss: 0.077\n",
            "Accuracy on the test set: 97 %\n",
            "[Epoch 6, Batch   100] Loss: 0.064\n",
            "[Epoch 6, Batch   200] Loss: 0.067\n",
            "[Epoch 6, Batch   300] Loss: 0.061\n",
            "[Epoch 6, Batch   400] Loss: 0.060\n",
            "Accuracy on the test set: 96 %\n",
            "[Epoch 7, Batch   100] Loss: 0.055\n",
            "[Epoch 7, Batch   200] Loss: 0.061\n",
            "[Epoch 7, Batch   300] Loss: 0.055\n",
            "[Epoch 7, Batch   400] Loss: 0.059\n",
            "Accuracy on the test set: 96 %\n",
            "[Epoch 8, Batch   100] Loss: 0.046\n",
            "[Epoch 8, Batch   200] Loss: 0.047\n",
            "[Epoch 8, Batch   300] Loss: 0.044\n",
            "[Epoch 8, Batch   400] Loss: 0.052\n",
            "Accuracy on the test set: 97 %\n",
            "[Epoch 9, Batch   100] Loss: 0.041\n",
            "[Epoch 9, Batch   200] Loss: 0.039\n",
            "[Epoch 9, Batch   300] Loss: 0.049\n",
            "[Epoch 9, Batch   400] Loss: 0.042\n",
            "Accuracy on the test set: 97 %\n",
            "[Epoch 10, Batch   100] Loss: 0.036\n",
            "[Epoch 10, Batch   200] Loss: 0.045\n",
            "[Epoch 10, Batch   300] Loss: 0.037\n",
            "[Epoch 10, Batch   400] Loss: 0.040\n",
            "Accuracy on the test set: 96 %\n",
            "Training finished\n"
          ]
        }
      ]
    },
    {
      "cell_type": "markdown",
      "source": [
        "## Model Evaluation [20 pts]"
      ],
      "metadata": {
        "id": "ogAfCEaS7kUS"
      }
    },
    {
      "cell_type": "code",
      "source": [
        "def evaluate_model(model, test_loader):\n",
        "    \"\"\"\n",
        "    Function to evaluate the trained MLP model on the test set.\n",
        "\n",
        "    Parameters:\n",
        "    - model: Trained CNN model.\n",
        "    - test_loader: DataLoader for test data.\n",
        "    \"\"\"\n",
        "    correct = 0\n",
        "    total = 0\n",
        "    with torch.no_grad():\n",
        "        for data in test_loader:\n",
        "            images, labels = data[0].to(device), data[1].to(device)\n",
        "            outputs = model(images)\n",
        "            _, predicted = torch.max(outputs.data, 1)\n",
        "            total += labels.size(0)\n",
        "            correct += (predicted == labels).sum().item()\n",
        "\n",
        "    print('Accuracy on the test set: %d %%' % (100 * correct / total))\n",
        "\n",
        "\n",
        "evaluate_model(model, test_loader)"
      ],
      "metadata": {
        "id": "ixgqQVKL7lq6",
        "colab": {
          "base_uri": "https://localhost:8080/"
        },
        "outputId": "459cc82b-951c-49df-aeba-0db2a64dae58"
      },
      "execution_count": null,
      "outputs": [
        {
          "output_type": "stream",
          "name": "stdout",
          "text": [
            "Accuracy on the test set: 96 %\n"
          ]
        }
      ]
    },
    {
      "cell_type": "markdown",
      "source": [
        "## Visulizations [10 pts]"
      ],
      "metadata": {
        "id": "895iKjO67txU"
      }
    },
    {
      "cell_type": "code",
      "source": [
        "import matplotlib.pyplot as plt\n",
        "import numpy as np\n",
        "\n",
        "def visualize_predictions(model, test_loader, num_samples):\n",
        "    \"\"\"\n",
        "    Function to visualize some samples with their correct labels and predicted labels.\n",
        "\n",
        "    Parameters:\n",
        "    - model: Trained MLP model.\n",
        "    - test_loader: DataLoader for test data.\n",
        "    - num_samples: Number of samples to visualize.\n",
        "    \"\"\"\n",
        "    model.eval()\n",
        "    dataiter = iter(test_loader)\n",
        "\n",
        "    for i in range(num_samples):\n",
        "        try:\n",
        "            images, labels = next(dataiter)\n",
        "            images = images.to(device)\n",
        "        except StopIteration:\n",
        "            dataiter = iter(test_loader)\n",
        "            images, labels = next(dataiter)\n",
        "            images = images.to(device)\n",
        "\n",
        "    with torch.no_grad():\n",
        "        outputs = model(images)\n",
        "        _, predicted = torch.max(outputs, 1)\n",
        "\n",
        "    for i in range(num_samples):\n",
        "        image = images[i].cpu().numpy()\n",
        "        label = labels[i]\n",
        "        pred = predicted[i]\n",
        "\n",
        "        plt.figure(figsize=(2,2))\n",
        "        plt.imshow(np.transpose(image, (1, 2, 0)))\n",
        "        plt.title(f\"Correct label: {label}\\nPredicted label: {pred}\")\n",
        "        plt.show()\n"
      ],
      "metadata": {
        "id": "3UhA3O8p7vET"
      },
      "execution_count": null,
      "outputs": []
    },
    {
      "cell_type": "code",
      "source": [
        "# Visualize predictions on the test set\n",
        "visualize_predictions(model, test_loader, num_samples=5)\n"
      ],
      "metadata": {
        "id": "GXHP5bNP79d0",
        "colab": {
          "base_uri": "https://localhost:8080/",
          "height": 1000
        },
        "outputId": "32531011-4f30-4135-c9e6-0d96377a5c35"
      },
      "execution_count": null,
      "outputs": [
        {
          "output_type": "display_data",
          "data": {
            "text/plain": [
              "<Figure size 200x200 with 1 Axes>"
            ],
            "image/png": "[encoded data removed]"
          },
          "metadata": {}
        },
        {
          "output_type": "display_data",
          "data": {
            "text/plain": [
              "<Figure size 200x200 with 1 Axes>"
            ],
            "image/png": "[encoded data removed]"
          },
          "metadata": {}
        },
        {
          "output_type": "display_data",
          "data": {
            "text/plain": [
              "<Figure size 200x200 with 1 Axes>"
            ],
            "image/png": "[encoded data removed]"
          },
          "metadata": {}
        },
        {
          "output_type": "display_data",
          "data": {
            "text/plain": [
              "<Figure size 200x200 with 1 Axes>"
            ],
            "image/png": "[encoded data removed]"
          },
          "metadata": {}
        },
        {
          "output_type": "display_data",
          "data": {
            "text/plain": [
              "<Figure size 200x200 with 1 Axes>"
            ],
            "image/png": "[encoded data removed]"
          },
          "metadata": {}
        }
      ]
    }
  ]
}