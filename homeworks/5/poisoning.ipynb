{
  "cells": [
    {
      "cell_type": "markdown",
      "metadata": {
        "id": "EWyireOUe7yA"
      },
      "source": [
        "**Name: Mohammad Taslimi**\n",
        "\n",
        "**Student Number: 99101321**"
      ]
    },
    {
      "cell_type": "markdown",
      "metadata": {
        "id": "zhTOVaRie7yC"
      },
      "source": [
        "In this notebook we investigate how effective the poisoning attacks are when applied to two different transfer learning scenarios. Particularly we are intersted to attack a model such that it predicts a nice deer instance as a truck while maintaining clean acurracy on the test set.\n",
        "\n",
        "Note: Don't panic if you see lots of TODOs! They are mostly easy and short."
      ]
    },
    {
      "cell_type": "markdown",
      "metadata": {
        "id": "-w52wxtNe7yC"
      },
      "source": [
        "# Downloading data and model set-up"
      ]
    },
    {
      "cell_type": "code",
      "execution_count": 1,
      "metadata": {
        "id": "e4xctmD0e7yD"
      },
      "outputs": [],
      "source": [
        "import torch\n",
        "import torch.nn.functional as F\n",
        "import torch.nn as nn\n",
        "import torch.optim as optim\n",
        "import torchvision.utils\n",
        "from torch.utils.data import DataLoader, TensorDataset, ConcatDataset\n",
        "import torchvision.transforms as transforms\n",
        "from torchvision.models import resnet18, ResNet18_Weights\n",
        "import numpy as np\n",
        "from tqdm import tqdm\n",
        "import matplotlib.pyplot as plt"
      ]
    },
    {
      "cell_type": "code",
      "execution_count": 2,
      "metadata": {
        "colab": {
          "base_uri": "https://localhost:8080/"
        },
        "id": "fVyxpcume7yE",
        "outputId": "63d3f40d-e362-47bd-b45a-6d7a5305e0ad"
      },
      "outputs": [
        {
          "output_type": "stream",
          "name": "stdout",
          "text": [
            "Downloading https://www.cs.toronto.edu/~kriz/cifar-10-python.tar.gz to ./data/cifar-10-python.tar.gz\n"
          ]
        },
        {
          "output_type": "stream",
          "name": "stderr",
          "text": [
            "100%|██████████| 170498071/170498071 [00:08<00:00, 19472796.77it/s]\n"
          ]
        },
        {
          "output_type": "stream",
          "name": "stdout",
          "text": [
            "Extracting ./data/cifar-10-python.tar.gz to ./data\n",
            "Files already downloaded and verified\n"
          ]
        }
      ],
      "source": [
        "transform = transforms.Compose([transforms.ToTensor()])\n",
        "\n",
        "trainset = torchvision.datasets.CIFAR10(root='./data', train=True,\n",
        "                                        download=True, transform=transform)\n",
        "\n",
        "testset = torchvision.datasets.CIFAR10(root='./data', train=False,\n",
        "                                       download=True, transform=transform)\n",
        "\n",
        "batch_size = 128\n",
        "\n",
        "trainloader = DataLoader(trainset, batch_size=batch_size, shuffle=True)\n",
        "testloader = DataLoader(testset, batch_size=batch_size, shuffle=False)\n",
        "\n",
        "classes = ('plane', 'car', 'bird', 'cat',\n",
        "           'deer', 'dog', 'frog', 'horse', 'ship', 'truck')\n",
        "\n",
        "device = torch.device('cuda:0' if torch.cuda.is_available() else 'cpu')"
      ]
    },
    {
      "cell_type": "code",
      "execution_count": 3,
      "metadata": {
        "id": "UVxbb8Age7yF"
      },
      "outputs": [],
      "source": [
        "class Net(nn.Module):\n",
        "    def __init__(self):\n",
        "        super(Net, self).__init__()\n",
        "        self.feature_extractor = nn.Sequential(\n",
        "            *list(resnet18(weights=ResNet18_Weights.DEFAULT).children())[:-2])\n",
        "        self.fc = nn.Linear(512, 10)\n",
        "\n",
        "    def get_features(self, x):\n",
        "      return self.feature_extractor(x)\n",
        "\n",
        "    def forward(self, x):\n",
        "        feature = self.get_features(x)\n",
        "        return self.fc(torch.flatten(feature, start_dim=1))"
      ]
    },
    {
      "cell_type": "code",
      "execution_count": 4,
      "metadata": {
        "id": "W-XsTVqie7yF"
      },
      "outputs": [],
      "source": [
        "def standard_test(model, loader, device=device):\n",
        "  correct = 0\n",
        "  total = 0\n",
        "  model.eval()\n",
        "  with torch.no_grad():\n",
        "    for data in tqdm(loader):\n",
        "\n",
        "        images, labels = data\n",
        "        images = images.to(device)\n",
        "        labels = labels.to(device)\n",
        "        outputs = model(images)\n",
        "        _, predicted = torch.max(outputs.data, 1)\n",
        "        total += labels.size(0)\n",
        "        correct += (predicted == labels).sum().item()\n",
        "  print(f'\\n Clean accuracy of the network on the 10000 test images: {100 * correct / total} %')\n",
        "\n",
        "\n",
        "def standard_train(model, loader, num_epoch, optimizer, criterion, device=device):\n",
        "    model.train()\n",
        "    for epoch in range(num_epoch):\n",
        "      running_loss = 0.0\n",
        "      for i, data in enumerate(loader, 0):\n",
        "          inputs, labels = data[0].to(device), data[1].to(device)\n",
        "          optimizer.zero_grad()\n",
        "          outputs = model(inputs)\n",
        "          loss = criterion(outputs, labels)\n",
        "          loss.backward()\n",
        "          optimizer.step()\n",
        "          running_loss += loss.item()\n",
        "\n",
        "      print('Epoch %d loss: %.3f' % (epoch + 1, running_loss / len(trainloader)))\n",
        "      standard_test(clean_model, testloader)"
      ]
    },
    {
      "cell_type": "code",
      "execution_count": 5,
      "metadata": {
        "id": "1iJP_XJTe7yF",
        "colab": {
          "base_uri": "https://localhost:8080/"
        },
        "outputId": "dda2308b-7ed8-4788-9923-82f5abb77933"
      },
      "outputs": [
        {
          "output_type": "stream",
          "name": "stderr",
          "text": [
            "Downloading: \"https://download.pytorch.org/models/resnet18-f37072fd.pth\" to /root/.cache/torch/hub/checkpoints/resnet18-f37072fd.pth\n",
            "100%|██████████| 44.7M/44.7M [00:00<00:00, 161MB/s]\n"
          ]
        }
      ],
      "source": [
        "clean_model = Net().to(device)\n",
        "\n",
        "criterion = nn.CrossEntropyLoss()\n",
        "optimizer = optim.Adam(clean_model.parameters(), lr=0.001)"
      ]
    },
    {
      "cell_type": "code",
      "execution_count": 7,
      "metadata": {
        "id": "ZzArX18Ce7yG",
        "colab": {
          "base_uri": "https://localhost:8080/"
        },
        "outputId": "64dcda6f-0edc-46ea-cccb-f7639ee59f11"
      },
      "outputs": [
        {
          "output_type": "stream",
          "name": "stdout",
          "text": [
            "Epoch 1 loss: 0.822\n"
          ]
        },
        {
          "output_type": "stream",
          "name": "stderr",
          "text": [
            "100%|██████████| 79/79 [00:02<00:00, 29.94it/s]\n"
          ]
        },
        {
          "output_type": "stream",
          "name": "stdout",
          "text": [
            "\n",
            " Clean accuracy of the network on the 10000 test images: 75.81 %\n",
            "Epoch 2 loss: 1.478\n"
          ]
        },
        {
          "output_type": "stream",
          "name": "stderr",
          "text": [
            "100%|██████████| 79/79 [00:01<00:00, 40.72it/s]\n"
          ]
        },
        {
          "output_type": "stream",
          "name": "stdout",
          "text": [
            "\n",
            " Clean accuracy of the network on the 10000 test images: 73.37 %\n",
            "Epoch 3 loss: 0.652\n"
          ]
        },
        {
          "output_type": "stream",
          "name": "stderr",
          "text": [
            "100%|██████████| 79/79 [00:01<00:00, 41.56it/s]\n"
          ]
        },
        {
          "output_type": "stream",
          "name": "stdout",
          "text": [
            "\n",
            " Clean accuracy of the network on the 10000 test images: 76.44 %\n",
            "Epoch 4 loss: 0.504\n"
          ]
        },
        {
          "output_type": "stream",
          "name": "stderr",
          "text": [
            "100%|██████████| 79/79 [00:01<00:00, 40.83it/s]\n"
          ]
        },
        {
          "output_type": "stream",
          "name": "stdout",
          "text": [
            "\n",
            " Clean accuracy of the network on the 10000 test images: 77.18 %\n",
            "Epoch 5 loss: 0.409\n"
          ]
        },
        {
          "output_type": "stream",
          "name": "stderr",
          "text": [
            "100%|██████████| 79/79 [00:02<00:00, 30.32it/s]\n"
          ]
        },
        {
          "output_type": "stream",
          "name": "stdout",
          "text": [
            "\n",
            " Clean accuracy of the network on the 10000 test images: 80.53 %\n",
            "Epoch 6 loss: 0.329\n"
          ]
        },
        {
          "output_type": "stream",
          "name": "stderr",
          "text": [
            "100%|██████████| 79/79 [00:01<00:00, 42.64it/s]\n"
          ]
        },
        {
          "output_type": "stream",
          "name": "stdout",
          "text": [
            "\n",
            " Clean accuracy of the network on the 10000 test images: 80.26 %\n",
            "Epoch 7 loss: 0.268\n"
          ]
        },
        {
          "output_type": "stream",
          "name": "stderr",
          "text": [
            "100%|██████████| 79/79 [00:01<00:00, 42.13it/s]\n"
          ]
        },
        {
          "output_type": "stream",
          "name": "stdout",
          "text": [
            "\n",
            " Clean accuracy of the network on the 10000 test images: 78.77 %\n",
            "Epoch 8 loss: 0.225\n"
          ]
        },
        {
          "output_type": "stream",
          "name": "stderr",
          "text": [
            "100%|██████████| 79/79 [00:01<00:00, 42.25it/s]\n"
          ]
        },
        {
          "output_type": "stream",
          "name": "stdout",
          "text": [
            "\n",
            " Clean accuracy of the network on the 10000 test images: 79.88 %\n",
            "Epoch 9 loss: 0.187\n"
          ]
        },
        {
          "output_type": "stream",
          "name": "stderr",
          "text": [
            "100%|██████████| 79/79 [00:02<00:00, 30.00it/s]\n"
          ]
        },
        {
          "output_type": "stream",
          "name": "stdout",
          "text": [
            "\n",
            " Clean accuracy of the network on the 10000 test images: 79.8 %\n",
            "Epoch 10 loss: 0.162\n"
          ]
        },
        {
          "output_type": "stream",
          "name": "stderr",
          "text": [
            "100%|██████████| 79/79 [00:01<00:00, 42.14it/s]\n"
          ]
        },
        {
          "output_type": "stream",
          "name": "stdout",
          "text": [
            "\n",
            " Clean accuracy of the network on the 10000 test images: 78.39 %\n",
            "Epoch 11 loss: 0.138\n"
          ]
        },
        {
          "output_type": "stream",
          "name": "stderr",
          "text": [
            "100%|██████████| 79/79 [00:01<00:00, 41.90it/s]\n"
          ]
        },
        {
          "output_type": "stream",
          "name": "stdout",
          "text": [
            "\n",
            " Clean accuracy of the network on the 10000 test images: 79.16 %\n",
            "Epoch 12 loss: 0.127\n"
          ]
        },
        {
          "output_type": "stream",
          "name": "stderr",
          "text": [
            "100%|██████████| 79/79 [00:01<00:00, 41.22it/s]\n"
          ]
        },
        {
          "output_type": "stream",
          "name": "stdout",
          "text": [
            "\n",
            " Clean accuracy of the network on the 10000 test images: 78.5 %\n",
            "Epoch 13 loss: 0.121\n"
          ]
        },
        {
          "output_type": "stream",
          "name": "stderr",
          "text": [
            "100%|██████████| 79/79 [00:02<00:00, 36.70it/s]\n"
          ]
        },
        {
          "output_type": "stream",
          "name": "stdout",
          "text": [
            "\n",
            " Clean accuracy of the network on the 10000 test images: 79.46 %\n",
            "Epoch 14 loss: 0.102\n"
          ]
        },
        {
          "output_type": "stream",
          "name": "stderr",
          "text": [
            "100%|██████████| 79/79 [00:01<00:00, 41.70it/s]\n"
          ]
        },
        {
          "output_type": "stream",
          "name": "stdout",
          "text": [
            "\n",
            " Clean accuracy of the network on the 10000 test images: 78.34 %\n",
            "Epoch 15 loss: 0.098\n"
          ]
        },
        {
          "output_type": "stream",
          "name": "stderr",
          "text": [
            "100%|██████████| 79/79 [00:01<00:00, 42.13it/s]"
          ]
        },
        {
          "output_type": "stream",
          "name": "stdout",
          "text": [
            "\n",
            " Clean accuracy of the network on the 10000 test images: 78.36 %\n"
          ]
        },
        {
          "output_type": "stream",
          "name": "stderr",
          "text": [
            "\n"
          ]
        }
      ],
      "source": [
        "########################## Problem 1 (5 points) ##############################\n",
        "# TODO: Fine-tune the whole model using trainloader.                         #\n",
        "##############################################################################\n",
        "\n",
        "# your code goes here\n",
        "num_epoch = 15\n",
        "standard_train(clean_model, trainloader, num_epoch, optimizer, criterion, device=device)\n",
        "################################ End #########################################"
      ]
    },
    {
      "cell_type": "markdown",
      "metadata": {
        "id": "0c9yUznse7yG"
      },
      "source": [
        "# Computing clean accuracy"
      ]
    },
    {
      "cell_type": "code",
      "execution_count": 8,
      "metadata": {
        "id": "LXmDNo2me7yH"
      },
      "outputs": [],
      "source": [
        "def standard_test(model, loader, device=device):\n",
        "  correct = 0\n",
        "  total = 0\n",
        "  model.eval()\n",
        "  with torch.no_grad():\n",
        "    for data in tqdm(loader):\n",
        "\n",
        "        images, labels = data\n",
        "        images = images.to(device)\n",
        "        labels = labels.to(device)\n",
        "        outputs = model(images)\n",
        "        _, predicted = torch.max(outputs.data, 1)\n",
        "        total += labels.size(0)\n",
        "        correct += (predicted == labels).sum().item()\n",
        "  print(f'\\n Clean accuracy of the network on the 10000 test images: {100 * correct / total} %')"
      ]
    },
    {
      "cell_type": "code",
      "execution_count": 9,
      "metadata": {
        "id": "ZVz7mitEe7yH",
        "colab": {
          "base_uri": "https://localhost:8080/"
        },
        "outputId": "1ff4e807-156e-4636-df87-8e8d8f8fb581"
      },
      "outputs": [
        {
          "output_type": "stream",
          "name": "stderr",
          "text": [
            "100%|██████████| 79/79 [00:02<00:00, 33.33it/s]"
          ]
        },
        {
          "output_type": "stream",
          "name": "stdout",
          "text": [
            "\n",
            " Clean accuracy of the network on the 10000 test images: 78.36 %\n"
          ]
        },
        {
          "output_type": "stream",
          "name": "stderr",
          "text": [
            "\n"
          ]
        }
      ],
      "source": [
        "standard_test(clean_model, testloader)"
      ]
    },
    {
      "cell_type": "code",
      "execution_count": 10,
      "metadata": {
        "id": "fyvvziMse7yH",
        "colab": {
          "base_uri": "https://localhost:8080/",
          "height": 448
        },
        "outputId": "a76ca6e1-6bd2-4844-b339-ac4380d00539"
      },
      "outputs": [
        {
          "output_type": "display_data",
          "data": {
            "text/plain": [
              "<Figure size 640x480 with 1 Axes>"
            ],
            "image/png": "[encoded data removed]"
          },
          "metadata": {}
        },
        {
          "output_type": "stream",
          "name": "stdout",
          "text": [
            "The predicted label for the given image is: deer\n"
          ]
        }
      ],
      "source": [
        "deer = testloader.dataset[100][0]\n",
        "\n",
        "########################## Problem 2 (4 points) ##############################\n",
        "# TODO: Show the provided deer image and evaluate the model on it            #\n",
        "# (compute predicted label)                                                  #\n",
        "##############################################################################\n",
        "\n",
        "# your code goes here\n",
        "\n",
        "plt.imshow(deer.permute(1, 2, 0)) # assuming the image is in CxHxW format\n",
        "plt.show()\n",
        "\n",
        "def prediction_one_image(image, model):\n",
        "    if len(image.shape) == 3:\n",
        "       image = image.unsqueeze(0)\n",
        "\n",
        "    if torch.cuda.is_available():\n",
        "       if not image.is_cuda:\n",
        "          image = image.cuda()\n",
        "\n",
        "    if not next(clean_model.parameters()).is_cuda:\n",
        "       model = model.to(device)\n",
        "\n",
        "\n",
        "    model.eval()\n",
        "    output = model(image)\n",
        "    _, prediction = output.max(1)\n",
        "\n",
        "    return prediction\n",
        "\n",
        "\n",
        "\n",
        "predicted_label = prediction_one_image(image=deer, model=clean_model)\n",
        "print(f'The predicted label for the given image is: {classes[predicted_label.item()]}')\n",
        "\n",
        "\n",
        "################################ End #########################################"
      ]
    },
    {
      "cell_type": "markdown",
      "metadata": {
        "id": "tgMOgA-Ue7yI"
      },
      "source": [
        "# Poisoning Attack - Last Layer Transfer Learning"
      ]
    },
    {
      "cell_type": "code",
      "execution_count": 11,
      "metadata": {
        "id": "h4yeHklCe7yI",
        "colab": {
          "base_uri": "https://localhost:8080/",
          "height": 470
        },
        "outputId": "121e1044-e720-46e5-b82e-b10e6c99de37"
      },
      "outputs": [
        {
          "output_type": "display_data",
          "data": {
            "text/plain": [
              "<Figure size 640x480 with 1 Axes>"
            ],
            "image/png": "[encoded data removed]"
          },
          "metadata": {}
        },
        {
          "output_type": "stream",
          "name": "stdout",
          "text": [
            "The predicted label for the given image is: truck\n"
          ]
        }
      ],
      "source": [
        "truck = testloader.dataset[568][0]\n",
        "plt.imshow(truck.permute(1,2,0))\n",
        "plt.title('truck')\n",
        "plt.show()\n",
        "\n",
        "predicted_label = prediction_one_image(image=truck, model=clean_model)\n",
        "print(f'The predicted label for the given image is: {classes[predicted_label.item()]}')\n"
      ]
    },
    {
      "cell_type": "code",
      "execution_count": 27,
      "metadata": {
        "id": "O58XF46ye7yI"
      },
      "outputs": [],
      "source": [
        "\n",
        "def poisoning_example_generation(t, b, model, device=device, lmda=0.001, max_iters=100, beta=1):\n",
        "    \"\"\"\n",
        "    t: target instance (tensor)\n",
        "    b: base instance (tensor)\n",
        "    model: model with a get_features method\n",
        "    device: device to run the computation on ('cpu' or 'cuda')\n",
        "    lmda: learning rate\n",
        "    max_iters: maximum number of iterations\n",
        "    beta: weighting factor for the feature space loss\n",
        "    \"\"\"\n",
        "    t = t.clone().detach().requires_grad_(False).to(device)\n",
        "    b = b.clone().detach().requires_grad_(False).to(device)\n",
        "\n",
        "    sample = b.clone().detach().requires_grad_(True).to(device)\n",
        "\n",
        "    optimizer = torch.optim.Adam([sample], lr=lmda)\n",
        "\n",
        "    model.eval()\n",
        "\n",
        "    for i in range(max_iters):\n",
        "        optimizer.zero_grad()\n",
        "\n",
        "        sample_features = model.get_features(sample)\n",
        "        target_features = model.get_features(t)\n",
        "\n",
        "\n",
        "        input_space_loss = F.mse_loss(sample, b)\n",
        "        feature_space_loss = F.mse_loss(sample_features, target_features)\n",
        "\n",
        "        loss = input_space_loss + beta * feature_space_loss\n",
        "\n",
        "        loss.backward()\n",
        "        optimizer.step()\n",
        "\n",
        "    return sample.detach().squeeze().cpu()\n"
      ]
    },
    {
      "cell_type": "code",
      "execution_count": 13,
      "metadata": {
        "id": "i615D1lUe7yJ"
      },
      "outputs": [],
      "source": [
        "########################## Problem 4 (6 points) ##############################\n",
        "# TODO: Copy the clean_model to a new model and name it attacked_model,      #\n",
        "# then freeze the feature extractor, finally initialize the fc layer         #\n",
        "# to random values.                                                          #\n",
        "##############################################################################\n",
        "\n",
        "# your code goes here\n",
        "\n",
        "import copy\n",
        "\n",
        "def attack_model(clean_model):\n",
        "    attacked_model = copy.deepcopy(clean_model)\n",
        "\n",
        "    for param in attacked_model.feature_extractor.parameters():\n",
        "        param.requires_grad = False\n",
        "\n",
        "    def initialize_fc_layer(fc_layer):\n",
        "        if isinstance(fc_layer, nn.Linear):\n",
        "            nn.init.kaiming_normal_(fc_layer.weight)\n",
        "            if fc_layer.bias is not None:\n",
        "                nn.init.constant_(fc_layer.bias, 0)\n",
        "\n",
        "    attacked_model.fc.apply(initialize_fc_layer)\n",
        "\n",
        "    return attacked_model\n",
        "\n",
        "attacked_model = attack_model(clean_model).to(device)\n",
        "\n",
        "################################ End #########################################"
      ]
    },
    {
      "cell_type": "code",
      "execution_count": 17,
      "metadata": {
        "id": "lqT7-_TYe7yJ",
        "colab": {
          "base_uri": "https://localhost:8080/",
          "height": 887
        },
        "outputId": "0e71d7aa-a60d-418e-c2ad-d6426ab8c7f4"
      },
      "outputs": [
        {
          "output_type": "display_data",
          "data": {
            "text/plain": [
              "<Figure size 640x480 with 1 Axes>"
            ],
            "image/png": "[encoded data removed]"
          },
          "metadata": {}
        },
        {
          "output_type": "display_data",
          "data": {
            "text/plain": [
              "<Figure size 640x480 with 1 Axes>"
            ],
            "image/png": "[encoded data removed]"
          },
          "metadata": {}
        }
      ],
      "source": [
        "########################## Problem 5 (3 points) ##############################\n",
        "# TODO: Create a poison sample for the truck instance and show it.           #\n",
        "# Note that you may need a back and forth procedure to create a good poison! #\n",
        "##############################################################################\n",
        "\n",
        "# your code goes here\n",
        "\n",
        "import matplotlib.pyplot as plt\n",
        "import torch\n",
        "import torchvision.transforms as transforms\n",
        "\n",
        "\n",
        "# Extract the truck instance from the dataset\n",
        "truck = testloader.dataset[568][0]\n",
        "base = deer\n",
        "target = truck\n",
        "dim_base = base.shape[2]\n",
        "beta = 0.25*(2048**2)/(dim_base**2)\n",
        "poisoned_sample = poisoning_example_generation(target.unsqueeze(0), base.unsqueeze(0), clean_model, device=device, beta=beta)\n",
        "\n",
        "plt.imshow(deer.permute(1, 2, 0))\n",
        "plt.title('Original deer')\n",
        "plt.show()\n",
        "\n",
        "plt.imshow(poisoned_sample.permute(1, 2, 0))\n",
        "plt.title('Poisoned deer Sample')\n",
        "plt.show()\n",
        "\n",
        "\n",
        "\n",
        "\n",
        "################################ End #########################################"
      ]
    },
    {
      "cell_type": "code",
      "source": [
        "poisoned_sample_label = prediction_one_image(poisoned_sample, clean_model)\n",
        "print(f\"label predicted by clean model for poisoned deer is {classes[poisoned_sample_label]}\")"
      ],
      "metadata": {
        "colab": {
          "base_uri": "https://localhost:8080/"
        },
        "id": "Z1uhmEtk0hEK",
        "outputId": "30605e25-4dac-4a15-cf10-7d494c5b908d"
      },
      "execution_count": 18,
      "outputs": [
        {
          "output_type": "stream",
          "name": "stdout",
          "text": [
            "label predicted by clean model for poisoned deer is truck\n"
          ]
        }
      ]
    },
    {
      "cell_type": "code",
      "execution_count": 19,
      "metadata": {
        "id": "-oQlTIuge7yJ"
      },
      "outputs": [],
      "source": [
        "########################## Problem 6 (3 points) ##############################\n",
        "# TODO: Add your poisoned truck to the trainloader and name it               #\n",
        "# poisoned_trainloader                                                       #\n",
        "##############################################################################\n",
        "\n",
        "# your code goes here\n",
        "\n",
        "from torch.utils.data import DataLoader, Dataset, TensorDataset, ConcatDataset\n",
        "\n",
        "deer_label = testloader.dataset[100][1]\n",
        "\n",
        "poisoned_sample_dataset = TensorDataset(poisoned_sample.unsqueeze(0), torch.tensor([deer_label]))\n",
        "\n",
        "poisoned_train_dataset = ConcatDataset([trainloader.dataset, poisoned_sample_dataset])\n",
        "\n",
        "poisoned_trainloader = DataLoader(poisoned_train_dataset, batch_size=trainloader.batch_size, shuffle=True)\n",
        "\n",
        "\n",
        "\n",
        "################################ End #########################################"
      ]
    },
    {
      "cell_type": "code",
      "source": [
        "len(poisoned_trainloader.dataset)"
      ],
      "metadata": {
        "colab": {
          "base_uri": "https://localhost:8080/"
        },
        "id": "ubJOLcsJnDiS",
        "outputId": "cfdce0ad-7808-4585-b298-1f6fb07f011b"
      },
      "execution_count": 20,
      "outputs": [
        {
          "output_type": "execute_result",
          "data": {
            "text/plain": [
              "50001"
            ]
          },
          "metadata": {},
          "execution_count": 20
        }
      ]
    },
    {
      "cell_type": "code",
      "execution_count": 24,
      "metadata": {
        "id": "flgbRdpse7yJ",
        "colab": {
          "base_uri": "https://localhost:8080/"
        },
        "outputId": "4230ec41-2bad-4312-b0b3-9f17bd6710d5"
      },
      "outputs": [
        {
          "output_type": "stream",
          "name": "stdout",
          "text": [
            "Epoch [1/5], Loss: 0.3769514586233422\n",
            "Epoch [2/5], Loss: 0.3774974151035709\n",
            "Epoch [3/5], Loss: 0.37089921675069865\n",
            "Epoch [4/5], Loss: 0.3691807095047153\n",
            "Epoch [5/5], Loss: 0.3673361760880941\n",
            "Finished Fine-tuning\n"
          ]
        }
      ],
      "source": [
        "########################## Problem 7 (4 points) ##############################\n",
        "# TODO: Fine-tune the last layer of the model which is fc using              #\n",
        "# poisoned_trainloader.                                                      #\n",
        "##############################################################################\n",
        "\n",
        "# your code goes here\n",
        "\n",
        "\n",
        "import torch\n",
        "import torch.nn as nn\n",
        "import torch.optim as optim\n",
        "\n",
        "def fine_tune_fc_layer(model, trainloader, num_epochs=10, learning_rate=0.001):\n",
        "    model.train()\n",
        "\n",
        "    optimizer = optim.Adam(model.fc.parameters(), lr=learning_rate)\n",
        "    criterion = nn.CrossEntropyLoss()\n",
        "\n",
        "    for epoch in range(num_epochs):\n",
        "        running_loss = 0.0\n",
        "        for inputs, labels in trainloader:\n",
        "            inputs, labels = inputs.to(device), labels.to(device)\n",
        "\n",
        "            optimizer.zero_grad()\n",
        "\n",
        "            outputs = model(inputs)\n",
        "            loss = criterion(outputs, labels)\n",
        "\n",
        "            loss.backward()\n",
        "            optimizer.step()\n",
        "            running_loss += loss.item()\n",
        "\n",
        "        print(f'Epoch [{epoch+1}/{num_epochs}], Loss: {running_loss/len(trainloader)}')\n",
        "\n",
        "    print('Finished Fine-tuning')\n",
        "\n",
        "\n",
        "fine_tune_fc_layer(attacked_model, poisoned_trainloader, num_epochs=5, learning_rate=0.001)\n",
        "\n",
        "\n",
        "################################ End #########################################"
      ]
    },
    {
      "cell_type": "code",
      "execution_count": 25,
      "metadata": {
        "id": "lBDoWT8Ae7yJ",
        "colab": {
          "base_uri": "https://localhost:8080/"
        },
        "outputId": "75bca54a-a198-4105-8038-13669e273dda"
      },
      "outputs": [
        {
          "output_type": "stream",
          "name": "stderr",
          "text": [
            "100%|██████████| 79/79 [00:02<00:00, 27.20it/s]"
          ]
        },
        {
          "output_type": "stream",
          "name": "stdout",
          "text": [
            "\n",
            " Clean accuracy of the network on the 10000 test images: 78.36 %\n"
          ]
        },
        {
          "output_type": "stream",
          "name": "stderr",
          "text": [
            "\n"
          ]
        }
      ],
      "source": [
        "standard_test(attacked_model, testloader)"
      ]
    },
    {
      "cell_type": "code",
      "execution_count": 26,
      "metadata": {
        "id": "cK1zh0Yhe7yJ",
        "colab": {
          "base_uri": "https://localhost:8080/"
        },
        "outputId": "1e4bc6dc-e042-41b0-8b86-833416e0759e"
      },
      "outputs": [
        {
          "output_type": "stream",
          "name": "stdout",
          "text": [
            "The predicted label for the deer image using attacked model is: deer\n",
            "The predicted label for the poisoned image using attacked model is: frog\n",
            "The predicted label for the poisoned image using clean model is: truck\n"
          ]
        }
      ],
      "source": [
        "########################## Problem 8 (2 points) ##############################\n",
        "# TODO: Now evaluate the attacked_model on the deer image.                   #\n",
        "##############################################################################\n",
        "\n",
        "# your code goes here\n",
        "\n",
        "deer_label = prediction_one_image(deer, attacked_model)\n",
        "print(f'The predicted label for the deer image using attacked model is: {classes[deer_label.item()]}')\n",
        "\n",
        "\n",
        "\n",
        "\n",
        "predicted_label = prediction_one_image(poisoned_sample, attacked_model)\n",
        "print(f'The predicted label for the poisoned image using attacked model is: {classes[predicted_label.item()]}')\n",
        "\n",
        "predicted_label = prediction_one_image(poisoned_sample, clean_model)\n",
        "print(f'The predicted label for the poisoned image using clean model is: {classes[predicted_label.item()]}')\n",
        "\n",
        "\n",
        "\n",
        "################################ End #########################################"
      ]
    },
    {
      "cell_type": "markdown",
      "metadata": {
        "id": "7LldyuHhe7yJ"
      },
      "source": [
        "## Analyzing the results\n",
        "Please answer these follow-up questions below them. (6 points)"
      ]
    },
    {
      "cell_type": "markdown",
      "metadata": {
        "id": "5MJbu_qze7yJ"
      },
      "source": [
        "1. Was the attack successful? Why?\n",
        "\n",
        "`Answer`: No, the attack was not successful. The reason is that the decision boundary did not alter in such a manner that would cause the specified deer sample to be classified as a truck. Despite the attack, the sample continues to be classified as a deer. Interestingly, the poisoned sample is now classified as a frog.\n",
        "\n",
        "1. How does choice of base instance affect the attack success?\n",
        "\n",
        "`Answer`:\n",
        "The choice of the base instance significantly influences the success of the attack. If the decision boundaries of the base instance and the target instance are adjacent to each other, the probability of a successful attack increases. This is because fine-tuning the last layer causes a rotation in the decision boundary. Therefore, the closer these boundaries are, the more likely the rotation will result in a successful reclassification.\n",
        "\n",
        "2. How do you suggest to choose the base instance other than the random method we used?\n",
        "\n",
        "`Answer`:\n",
        " If the decision boundaries of the base instance and the target instance are adjacent to each other, the probability of a successful attack increases."
      ]
    },
    {
      "cell_type": "markdown",
      "metadata": {
        "id": "FO_FC0yZe7yK"
      },
      "source": [
        "# Posioning Attack - End2End Transfer Learning"
      ]
    },
    {
      "cell_type": "code",
      "execution_count": 28,
      "metadata": {
        "id": "HoDbtA_5e7yK"
      },
      "outputs": [],
      "source": [
        "def poisoning_watermark_generation(t, b, gamma=0.1):\n",
        "  \"\"\"\n",
        "  t: target instance\n",
        "  b: base instance\n",
        "  gamma: opacity\n",
        "  \"\"\"\n",
        "########################## Problem 9 (4 points) ##############################\n",
        "# TODO: Add a low opacity watermark of the target instance to the base       #\n",
        "##############################################################################\n",
        "\n",
        "# your code goes here\n",
        "  sample = gamma*t + (1-gamma)*b\n",
        "################################ End #########################################\n",
        "\n",
        "  return sample"
      ]
    },
    {
      "cell_type": "code",
      "execution_count": 62,
      "metadata": {
        "id": "-P1xCctJe7yK",
        "colab": {
          "base_uri": "https://localhost:8080/"
        },
        "outputId": "93d89fb4-3efe-4543-d476-1434686d851f"
      },
      "outputs": [
        {
          "output_type": "stream",
          "name": "stdout",
          "text": [
            "50100\n"
          ]
        }
      ],
      "source": [
        "########################## Problem 10 (5 points) ##############################\n",
        "# TODO: Sample 100 instances of the truck class from the testloader randomly  #\n",
        "# and then create poison samples for them using the watermark approach.       #\n",
        "# Finaly add these poisoned samples to create poisoned_trainloader.           #\n",
        "###############################################################################\n",
        "\n",
        "\n",
        "def sample_truck_instances(testloader, num_samples=100, truck_class=9):\n",
        "    truck_samples = []\n",
        "    truck_labels = []\n",
        "\n",
        "    for images, labels in testloader:\n",
        "        for img, label in zip(images, labels):\n",
        "            if label == truck_class:\n",
        "                truck_samples.append(img)\n",
        "                truck_labels.append(label)\n",
        "            if len(truck_samples) >= num_samples:\n",
        "                return truck_samples, truck_labels\n",
        "\n",
        "    return truck_samples, truck_labels\n",
        "\n",
        "def create_poisoned_samples(model, truck_samples, base_instance, beta):\n",
        "    poisoned_samples = []\n",
        "\n",
        "    for sample in truck_samples:\n",
        "        sample = poisoning_watermark_generation(t=sample, b=base_instance)\n",
        "        poisoned_sample = poisoning_example_generation(sample.unsqueeze(0), base_instance.unsqueeze(0), model, beta=beta)\n",
        "        poisoned_samples.append(poisoned_sample)\n",
        "\n",
        "    return poisoned_samples\n",
        "\n",
        "def create_poisoned_trainloader(trainloader, poisoned_samples, truck_labels):\n",
        "\n",
        "    poisoned_sample_dataset = TensorDataset(torch.stack(poisoned_samples), torch.tensor(truck_labels))\n",
        "\n",
        "    poisoned_train_dataset = ConcatDataset([trainloader.dataset, poisoned_sample_dataset])\n",
        "\n",
        "    poisoned_trainloader = DataLoader(poisoned_train_dataset, batch_size=trainloader.batch_size, shuffle=True)\n",
        "\n",
        "    return poisoned_trainloader\n",
        "\n",
        "\n",
        "truck_samples, truck_labels = sample_truck_instances(testloader, num_samples=100)\n",
        "base_instance = deer\n",
        "dim_base = base.shape[2]\n",
        "beta = 0.25*(2048**2)/(dim_base**2)\n",
        "\n",
        "poisoned_samples = create_poisoned_samples(clean_model, truck_samples, base_instance, beta=beta)\n",
        "\n",
        "poisoned_trainloader = create_poisoned_trainloader(trainloader, poisoned_samples, truck_labels)\n",
        "\n",
        "print(len(poisoned_trainloader.dataset))\n",
        "################################ End ##########################################"
      ]
    },
    {
      "cell_type": "code",
      "execution_count": 63,
      "metadata": {
        "id": "rOudcXdoe7yK"
      },
      "outputs": [],
      "source": [
        "########################## Problem 11 (3 points) #############################\n",
        "# TODO: copy the clean_model to a new model and name it attacked_model,      #\n",
        "# Note that all of the parameters must be trainable.                         #\n",
        "##############################################################################\n",
        "\n",
        "# your code goes here\n",
        "\n",
        "def create_attacked_model(clean_model):\n",
        "    attacked_model = copy.deepcopy(clean_model)\n",
        "\n",
        "    for param in attacked_model.parameters():\n",
        "        param.requires_grad = True\n",
        "\n",
        "    return attacked_model\n",
        "\n",
        "attacked_model = create_attacked_model(clean_model)\n",
        "\n",
        "\n",
        "################################ End #########################################"
      ]
    },
    {
      "cell_type": "code",
      "execution_count": 67,
      "metadata": {
        "id": "UsP0togHe7yK",
        "colab": {
          "base_uri": "https://localhost:8080/"
        },
        "outputId": "74f46b58-e7ec-4e37-ba3a-f1eb1e92aa5d"
      },
      "outputs": [
        {
          "output_type": "stream",
          "name": "stdout",
          "text": [
            "Epoch [1/1], Loss: 0.08103222023025725\n"
          ]
        },
        {
          "output_type": "stream",
          "name": "stderr",
          "text": [
            "100%|██████████| 79/79 [00:01<00:00, 42.70it/s]"
          ]
        },
        {
          "output_type": "stream",
          "name": "stdout",
          "text": [
            "\n",
            " Clean accuracy of the network on the 10000 test images: 78.1 %\n",
            "Finished Fine-tuning\n"
          ]
        },
        {
          "output_type": "stream",
          "name": "stderr",
          "text": [
            "\n"
          ]
        }
      ],
      "source": [
        "########################## Problem 12 (3 points) ##############################\n",
        "# TODO: Fine-tune the whole model using poisoned_trainloader.                 #\n",
        "###############################################################################\n",
        "\n",
        "# your code goes here\n",
        "\n",
        "def fine_tune_fc_layer(model, trainloader, num_epochs=2, learning_rate=0.001):\n",
        "    model.train()\n",
        "    optimizer = optim.Adam(model.parameters(), lr=learning_rate)\n",
        "    criterion = nn.CrossEntropyLoss()\n",
        "\n",
        "    for epoch in range(num_epochs):\n",
        "        running_loss = 0.0\n",
        "        for inputs, labels in trainloader:\n",
        "            inputs, labels = inputs.to(device), labels.to(device)\n",
        "\n",
        "            optimizer.zero_grad()\n",
        "\n",
        "\n",
        "            outputs = model(inputs)\n",
        "            loss = criterion(outputs, labels)\n",
        "\n",
        "            loss.backward()\n",
        "            optimizer.step()\n",
        "\n",
        "            running_loss += loss.item()\n",
        "\n",
        "        print(f'Epoch [{epoch+1}/{num_epochs}], Loss: {running_loss/len(trainloader)}')\n",
        "        standard_test(attacked_model, testloader)\n",
        "\n",
        "    print('Finished Fine-tuning')\n",
        "\n",
        "\n",
        "fine_tune_fc_layer(attacked_model, poisoned_trainloader, num_epochs=1, learning_rate=0.001)\n",
        "\n",
        "\n",
        "################################ End ##########################################"
      ]
    },
    {
      "cell_type": "code",
      "execution_count": 68,
      "metadata": {
        "id": "tuQhcGBpe7yK",
        "colab": {
          "base_uri": "https://localhost:8080/"
        },
        "outputId": "f8a117a9-ee77-4b8b-8297-8d2d31895674"
      },
      "outputs": [
        {
          "output_type": "stream",
          "name": "stderr",
          "text": [
            "100%|██████████| 79/79 [00:02<00:00, 37.47it/s]"
          ]
        },
        {
          "output_type": "stream",
          "name": "stdout",
          "text": [
            "\n",
            " Clean accuracy of the network on the 10000 test images: 78.1 %\n"
          ]
        },
        {
          "output_type": "stream",
          "name": "stderr",
          "text": [
            "\n"
          ]
        }
      ],
      "source": [
        "standard_test(attacked_model, testloader)"
      ]
    },
    {
      "cell_type": "code",
      "execution_count": 69,
      "metadata": {
        "id": "QwsHmFpbe7yK",
        "colab": {
          "base_uri": "https://localhost:8080/"
        },
        "outputId": "4570ed59-385e-48b9-8a1d-409637e1b060"
      },
      "outputs": [
        {
          "output_type": "stream",
          "name": "stdout",
          "text": [
            "The predicted label for the deer image using attacked model is: truck\n"
          ]
        }
      ],
      "source": [
        "########################## Problem 13 (2 points) #############################\n",
        "# TODO: Now evaluate the attacked_model on the deer image.                   #\n",
        "##############################################################################\n",
        "\n",
        "# your code goes here\n",
        "deer_label = prediction_one_image(deer, attacked_model)\n",
        "print(f'The predicted label for the deer image using attacked model is: {classes[deer_label.item()]}')\n",
        "\n",
        "\n",
        "################################ End #########################################"
      ]
    },
    {
      "cell_type": "markdown",
      "metadata": {
        "id": "qcPE0TSte7yL"
      },
      "source": [
        "## Analyzing the results\n",
        "Please answer this follow-up questions below it. (2 points)"
      ]
    },
    {
      "cell_type": "markdown",
      "metadata": {
        "id": "lKO7Zb7pe7yL"
      },
      "source": [
        "1. How do the poisons have different effect on the model in two transfer learning scenarios you investiagted?\n",
        "\n",
        "\n",
        "`Answer`:\n",
        "\n",
        "In the first scenario, where the model is fine-tuned on a poisoned dataset, the poison instances can significantly alter the decision boundary. This is because the model is directly learning from the poisoned data, which can lead to misclassification of the target instances.\n",
        "\n",
        "In the second scenario, where the model is pre-trained on a clean dataset and then fine-tuned on the poisoned dataset, the effect of the poison instances might be less pronounced. This is because the initial learning from the clean dataset could provide a form of regularization that makes the model more resistant to the poison instances. However, if the poison instances are carefully crafted, they can still cause the model to misclassify the target instances."
      ]
    }
  ],
  "metadata": {
    "language_info": {
      "name": "python"
    },
    "colab": {
      "provenance": [],
      "gpuType": "T4"
    },
    "kernelspec": {
      "name": "python3",
      "display_name": "Python 3"
    },
    "accelerator": "GPU"
  },
  "nbformat": 4,
  "nbformat_minor": 0
}