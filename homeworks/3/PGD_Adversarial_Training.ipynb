{
  "cells": [
    {
      "cell_type": "markdown",
      "metadata": {
        "id": "0S5CUy3DfX7k"
      },
      "source": [
        "<center>\n",
        "<h1>In the name of Allah</h1>\n",
        "</center>"
      ]
    },
    {
      "cell_type": "markdown",
      "metadata": {
        "id": "kSDBAV9KfX7l"
      },
      "source": [
        "**Name: Mohammad Taslimi**\n",
        "\n",
        "\n",
        "**Student Number: 99101321**"
      ]
    },
    {
      "cell_type": "code",
      "execution_count": null,
      "metadata": {
        "id": "aIPBkHQxfX7m"
      },
      "outputs": [],
      "source": [
        "from google.colab import drive\n",
        "drive.mount('/content/drive')"
      ]
    },
    {
      "cell_type": "code",
      "execution_count": 2,
      "metadata": {
        "id": "irvngGcMfX7n"
      },
      "outputs": [],
      "source": [
        "import torch\n",
        "import torchvision\n",
        "import torchvision.transforms as transforms\n",
        "from torchvision.models import resnet18\n",
        "import torch.nn as nn\n",
        "import torch.nn.functional as F\n",
        "import torch.optim as optim\n",
        "import numpy as np\n",
        "from torch.autograd import Variable\n",
        "from tqdm import tqdm"
      ]
    },
    {
      "cell_type": "markdown",
      "metadata": {
        "id": "lB-aVJV9fX7n"
      },
      "source": [
        "# A. Load the pretrained Resnet on CIFAR10"
      ]
    },
    {
      "cell_type": "code",
      "execution_count": 3,
      "metadata": {
        "colab": {
          "base_uri": "https://localhost:8080/"
        },
        "id": "EYK_E-JyfX7o",
        "outputId": "566a6520-7721-40d2-eb18-85d448a217cd"
      },
      "outputs": [
        {
          "output_type": "stream",
          "name": "stdout",
          "text": [
            "Files already downloaded and verified\n",
            "Files already downloaded and verified\n"
          ]
        }
      ],
      "source": [
        "transform = transforms.Compose([transforms.ToTensor()])\n",
        "\n",
        "trainset = torchvision.datasets.CIFAR10(root='./data', train=True,\n",
        "                                        download=True, transform=transform)\n",
        "\n",
        "testset = torchvision.datasets.CIFAR10(root='./data', train=False,\n",
        "                                       download=True, transform=transform)\n",
        "\n",
        "batch_size = 128\n",
        "\n",
        "########################## Problem 0 (0  points) ###############################\n",
        "# todo: Define your data loaders for training and testing                      #\n",
        "################################################################################\n",
        "\n",
        "# your code goes here\n",
        "trainloader = torch.utils.data.DataLoader(trainset, batch_size=batch_size, shuffle=True)\n",
        "testloader = torch.utils.data.DataLoader(testset, batch_size=batch_size, shuffle=False)\n",
        "\n",
        "################################ End ###########################################\n",
        "\n",
        "classes = ('plane', 'car', 'bird', 'cat',\n",
        "           'deer', 'dog', 'frog', 'horse', 'ship', 'truck')\n",
        "\n",
        "device = torch.device('cuda:0' if torch.cuda.is_available() else 'cpu')"
      ]
    },
    {
      "cell_type": "code",
      "execution_count": 15,
      "metadata": {
        "id": "zWy2qPVRfX7o"
      },
      "outputs": [],
      "source": [
        "class resnet(nn.Module):\n",
        "  def __init__(self, num_cls, T=1):\n",
        "    super().__init__()\n",
        "    self.conv = nn.Sequential(\n",
        "        *list(resnet18(weights=None).children())[:-2])\n",
        "\n",
        "    self.fc = nn.Linear(512, num_cls)\n",
        "    self.temp = T\n",
        "\n",
        "  def forward(self, x, T=None):\n",
        "    if T is None:\n",
        "      T = self.temp\n",
        "    x = self.conv(x)\n",
        "    x = torch.flatten(x, start_dim=1)\n",
        "    logits = self.fc(x)\n",
        "    output = torch.softmax(logits / T, dim=1)\n",
        "\n",
        "    return logits, output"
      ]
    },
    {
      "cell_type": "code",
      "execution_count": 5,
      "metadata": {
        "colab": {
          "base_uri": "https://localhost:8080/"
        },
        "id": "Ug-ZBGtMfX7p",
        "outputId": "1bf6bb31-c266-444b-c44d-56b4511e01a9"
      },
      "outputs": [
        {
          "output_type": "stream",
          "name": "stdout",
          "text": [
            "Downloading...\n",
            "From (original): https://drive.google.com/uc?id=1KU4jWAwZIq0TUujAsgimLxGWUvwIEfyB\n",
            "From (redirected): https://drive.google.com/uc?id=1KU4jWAwZIq0TUujAsgimLxGWUvwIEfyB&confirm=t&uuid=66d71923-934c-4446-bbe4-3bf8a30297d6\n",
            "To: /content/resnet18_cifar10_model_pretrained.pth\n",
            "100% 44.8M/44.8M [00:00<00:00, 88.6MB/s]\n"
          ]
        }
      ],
      "source": [
        "# Download trained weights of the Resnet18 model on CIFAR10 dataset\n",
        "!gdown 1KU4jWAwZIq0TUujAsgimLxGWUvwIEfyB"
      ]
    },
    {
      "cell_type": "code",
      "execution_count": 16,
      "metadata": {
        "id": "hid81rV8fX7p"
      },
      "outputs": [],
      "source": [
        "# load trained Resnet18 model on CIFAR10 dataset\n",
        "model = resnet(len(classes)).to(device)\n",
        "model_name = \"resnet18_cifar10_model_pretrained.pth\"\n",
        "model_PATH = \"/content/\" + model_name\n",
        "state_dict = torch.load(model_PATH, map_location=device)\n",
        "model.load_state_dict(state_dict)\n",
        "model = model.to(device)"
      ]
    },
    {
      "cell_type": "code",
      "execution_count": 7,
      "metadata": {
        "id": "8PRvGXQIfX7p",
        "colab": {
          "base_uri": "https://localhost:8080/"
        },
        "outputId": "1d9eb062-6554-4640-b5bd-5b3a8dfd182e"
      },
      "outputs": [
        {
          "output_type": "stream",
          "name": "stdout",
          "text": [
            "Clean accuracy of the network on the 10000 test images: 75 %\n"
          ]
        }
      ],
      "source": [
        "def standard_test(model, loader, device=device):\n",
        "  correct = 0\n",
        "  total = 0\n",
        "  ########################## Problem 0 (0 points) ##############################\n",
        "  # todo: Iterate over loader, compute the output and predicted                #\n",
        "  # label, and update \"correct\" and \"total\" counters accordingly.              #\n",
        "  ##############################################################################\n",
        "\n",
        "  # your code goes here\n",
        "  model.eval()\n",
        "  with torch.no_grad():\n",
        "      for data in loader:\n",
        "          images, labels = data\n",
        "          images, labels = images.to(device), labels.to(device)\n",
        "          _, outputs = model(images)\n",
        "          _, predicted = torch.max(outputs.data, 1)\n",
        "          total += labels.size(0)\n",
        "          correct += (predicted == labels).sum().item()\n",
        "  ################################ End #########################################\n",
        "  print(f'Clean accuracy of the network on the 10000 test images: {100 * correct // total} %')\n",
        "\n",
        "\n",
        "standard_test(model, testloader, device=device)"
      ]
    },
    {
      "cell_type": "markdown",
      "metadata": {
        "id": "SniVBXctfX7q"
      },
      "source": [
        "# B. PGD Attack"
      ]
    },
    {
      "cell_type": "code",
      "execution_count": 21,
      "metadata": {
        "id": "SkPnCe3RfX7r"
      },
      "outputs": [],
      "source": [
        "# Implement PGD attack\n",
        "\n",
        "class LinfPGDAttack(object):\n",
        "\n",
        "    def __init__(self, model, epsilon = 8/255, k = 2, alpha = 2/255):\n",
        "        self.model = model\n",
        "        self.epsilon = epsilon\n",
        "        self.steps = k\n",
        "        self.alpha = alpha\n",
        "\n",
        "    def __call__(self, image, label):\n",
        "\n",
        "        image = image.to(device)\n",
        "        label = label.to(device)\n",
        "\n",
        "        out, _ = self.model(image)\n",
        "        _, pred = torch.max(out, 1)\n",
        "\n",
        "        perturbed_image = image.clone()\n",
        "        perturbed_image.to(device)\n",
        "\n",
        "        if pred.item() == label.item():\n",
        "            ########################## Problem 1 (8 points) ##############################\n",
        "            # Implement a k step PGD attack of size alpha                                #\n",
        "            # while always staying within epsilon distance from the initial point        #\n",
        "            # Use cross entropy loss                                                     #\n",
        "            ##############################################################################\n",
        "            perturbed_image = perturbed_image + torch.rand_like(perturbed_image).to(device) * 2 * self.epsilon - self.epsilon\n",
        "            perturbed_image = torch.clamp(perturbed_image, 0, 1)\n",
        "            loss = nn.CrossEntropyLoss()\n",
        "\n",
        "            for i in range(self.steps):\n",
        "                perturbed_image = perturbed_image.detach().clone()\n",
        "                perturbed_image.requires_grad = True\n",
        "\n",
        "                out, _ = self.model(perturbed_image)\n",
        "                attack_loss = loss(out, label)\n",
        "\n",
        "                self.model.zero_grad()\n",
        "                attack_loss.backward()\n",
        "\n",
        "                perturbation = self.alpha * perturbed_image.grad.sign()\n",
        "                perturbed_image = perturbed_image + perturbation\n",
        "                perturbed_image = torch.clamp(perturbed_image, image - self.epsilon, image + self.epsilon)\n",
        "                perturbed_image = torch.clamp(perturbed_image, 0, 1)\n",
        "            ################################ End #########################################\n",
        "\n",
        "        return perturbed_image"
      ]
    },
    {
      "cell_type": "code",
      "execution_count": 22,
      "metadata": {
        "colab": {
          "base_uri": "https://localhost:8080/"
        },
        "id": "Gk9rz_EFfX7r",
        "outputId": "976f9cc1-93fa-4497-c700-88a009a0cca9"
      },
      "outputs": [
        {
          "output_type": "stream",
          "name": "stdout",
          "text": [
            "Clean accuracy of the network on the 10000 test images: 75 %\n",
            "Accuracy of adversarial examples generated using PGD attack with k=2: 0.20\n",
            "Accuracy of adversarial examples generated using PGD attack with k=4: 0.06\n",
            "Accuracy of adversarial examples generated using PGD attack with k=8: 0.01\n"
          ]
        }
      ],
      "source": [
        "########################## Problem 2 (4 points) ##############################\n",
        "# Evaluate PGD attack on the trained model with k=2,4,8                      #\n",
        "##############################################################################\n",
        "\n",
        "k_list = [2,4,8]\n",
        "\n",
        "##############################################################################\n",
        "testloader_adversarial_example = torch.utils.data.DataLoader(testset, batch_size=1, shuffle=False)\n",
        "standard_test(model, testloader, device=device)\n",
        "\n",
        "for k in k_list:\n",
        "    pgd_attack = LinfPGDAttack(model=model, k=k)\n",
        "    success_rate = 0\n",
        "    total_samples = 0\n",
        "\n",
        "    for inputs, labels in testloader_adversarial_example:\n",
        "        labels = labels.to(device)\n",
        "        adversarial_inputs = pgd_attack(inputs, labels)\n",
        "\n",
        "        _, predictions = model(adversarial_inputs)\n",
        "        success_rate += (predictions.argmax(1) == labels).float().sum().item()\n",
        "        total_samples += labels.size(0)\n",
        "\n",
        "    success_rate /= total_samples\n",
        "    print(f\"Accuracy of adversarial examples generated using PGD attack with k={k}: {success_rate:.2f}\")\n",
        "\n",
        "################################ End #########################################"
      ]
    },
    {
      "cell_type": "code",
      "execution_count": 23,
      "metadata": {
        "id": "l2SOt-wefX7s",
        "colab": {
          "base_uri": "https://localhost:8080/",
          "height": 608
        },
        "outputId": "3fb60bd2-1790-4e10-be8d-b0a0f2a46d24"
      },
      "outputs": [
        {
          "output_type": "stream",
          "name": "stderr",
          "text": [
            "WARNING:matplotlib.image:Clipping input data to the valid range for imshow with RGB data ([0..1] for floats or [0..255] for integers).\n",
            "WARNING:matplotlib.image:Clipping input data to the valid range for imshow with RGB data ([0..1] for floats or [0..255] for integers).\n",
            "WARNING:matplotlib.image:Clipping input data to the valid range for imshow with RGB data ([0..1] for floats or [0..255] for integers).\n"
          ]
        },
        {
          "output_type": "display_data",
          "data": {
            "text/plain": [
              "<Figure size 1000x500 with 3 Axes>"
            ],
            "image/png": "[encoded data removed]"
          },
          "metadata": {}
        },
        {
          "output_type": "display_data",
          "data": {
            "text/plain": [
              "<Figure size 1000x500 with 3 Axes>"
            ],
            "image/png": "[encoded data removed]"
          },
          "metadata": {}
        },
        {
          "output_type": "display_data",
          "data": {
            "text/plain": [
              "<Figure size 1000x500 with 3 Axes>"
            ],
            "image/png": "[encoded data removed]"
          },
          "metadata": {}
        }
      ],
      "source": [
        "########################## Problem 3 (4 points) ##############################\n",
        "# Choose 3 images from the test set that have been incorrectly classified    #\n",
        "# and plot the actual image, the added noise, and the perturbed image        #\n",
        "##############################################################################\n",
        "\n",
        "\n",
        "##############################################################################\n",
        "\n",
        "# Your code goes here\n",
        "\n",
        "import matplotlib.pyplot as plt\n",
        "\n",
        "incorrect_images = []\n",
        "incorrect_labels = []\n",
        "incorrect_preds = []\n",
        "perturbed_images = []\n",
        "model.eval()\n",
        "\n",
        "pgd_attack = LinfPGDAttack(model=model, k=2)\n",
        "\n",
        "for images, labels in testloader_adversarial_example:\n",
        "    images = images.to(device)\n",
        "    labels = labels.to(device)\n",
        "    adversarial_inputs = pgd_attack(images, labels)\n",
        "    _, outputs = model(adversarial_inputs)\n",
        "    _, predicted = torch.max(outputs.data, 1)\n",
        "\n",
        "\n",
        "    if predicted != labels:\n",
        "      incorrect_images.append(images)\n",
        "      incorrect_labels.append(labels)\n",
        "      incorrect_preds.append(predicted)\n",
        "      perturbed_images.append(adversarial_inputs)\n",
        "\n",
        "    if len(incorrect_images) >= 3:\n",
        "        break\n",
        "\n",
        "\n",
        "for i in range(3):\n",
        "    plt.figure(figsize=(10, 5))\n",
        "\n",
        "    plt.subplot(3, 3, i*3+1)\n",
        "    plt.imshow(incorrect_images[i].squeeze(dim=0).cpu().numpy().transpose((1, 2, 0)))\n",
        "    plt.title(f'Actual Image - Label {incorrect_labels[i].item()}')\n",
        "\n",
        "    plt.subplot(3, 3, i*3+2)\n",
        "    noise = perturbed_images[i] - incorrect_images[i]\n",
        "    plt.imshow(noise.squeeze(dim=0).cpu().detach().numpy().transpose((1, 2, 0)))\n",
        "    plt.title('Added Noise')\n",
        "\n",
        "    plt.subplot(3, 3, i*3+3)\n",
        "    plt.imshow(perturbed_images[i].squeeze(dim=0).cpu().detach().numpy().transpose((1, 2, 0)))\n",
        "    plt.title(f'Perturbed Image - Predicted Label {incorrect_preds[i].item()}')\n",
        "\n",
        "plt.show()\n",
        "\n",
        "################################ End #########################################"
      ]
    },
    {
      "cell_type": "markdown",
      "metadata": {
        "id": "VgZI0Z87fX7s"
      },
      "source": [
        "# C. FGSM Attack"
      ]
    },
    {
      "cell_type": "code",
      "execution_count": 26,
      "metadata": {
        "id": "TPRglSxpfX7s"
      },
      "outputs": [],
      "source": [
        "########################## Problem 4 (2 points) ##############################\n",
        "# Use your implementation from last HW for untargeted FGSM attack            #\n",
        "##############################################################################\n",
        "\n",
        "# Your code goes here\n",
        "\n",
        "\n",
        "def FGSM (model, x, y, epsilon):\n",
        "  \"\"\"\n",
        "  inputs:\n",
        "    model: model to be attacked\n",
        "    x: input image\n",
        "    y: label\n",
        "    epsilon: clipping threshold for FGSM\n",
        "\n",
        "  outputs:\n",
        "    x': the perturbed image\n",
        "    delta: the added perturbation\n",
        "    y': prediction of the model for the perturbed input\n",
        "  \"\"\"\n",
        "  delta = None\n",
        "\n",
        "  ######################\n",
        "  # Your code goes here\n",
        "\n",
        "  x.requires_grad = True\n",
        "\n",
        "  _, outputs = model(x)\n",
        "  loss = torch.nn.functional.cross_entropy(outputs, y)\n",
        "\n",
        "  model.zero_grad()\n",
        "  loss.backward()\n",
        "\n",
        "  grad_x = x.grad.data\n",
        "  delta = epsilon * grad_x.sign()\n",
        "  x_prime = x + delta\n",
        "  x_prime = torch.clamp(x_prime, 0, 1)\n",
        "\n",
        "\n",
        "  return x_prime, delta, model(x_prime)\n",
        "\n",
        "\n",
        "\n",
        "\n",
        "################################ End #########################################"
      ]
    },
    {
      "cell_type": "code",
      "execution_count": 27,
      "metadata": {
        "id": "RyVmpdTpfX7s",
        "colab": {
          "base_uri": "https://localhost:8080/"
        },
        "outputId": "c5152273-789d-4aac-b646-79a39c0d5d75"
      },
      "outputs": [
        {
          "output_type": "stream",
          "name": "stdout",
          "text": [
            "Accuracy of adversarial examples generated using FGSM attack with elsilon=0.03137254901960784: 0.12\n"
          ]
        }
      ],
      "source": [
        "########################### Problem 5 (2 points) #############################\n",
        "# Evaluate untargeted FGSM attack on the trained model with epsilon = 8/255  #\n",
        "##############################################################################\n",
        "\n",
        "# Your code goes here\n",
        "\n",
        "\n",
        "success_rate = 0\n",
        "total_samples = 0\n",
        "epsilon = 8/255\n",
        "for inputs, labels in testloader_adversarial_example:\n",
        "    labels = labels.to(device)\n",
        "    inputs = inputs.to(device)\n",
        "    adversarial_inputs, _, (_, predictions) = FGSM(model, inputs, labels, epsilon=epsilon)\n",
        "\n",
        "    success_rate += (predictions.argmax(1) == labels).float().sum().item()\n",
        "    total_samples += labels.size(0)\n",
        "\n",
        "success_rate /= total_samples\n",
        "print(f\"Accuracy of adversarial examples generated using FGSM attack with elsilon={epsilon}: {success_rate:.2f}\")\n",
        "\n",
        "################################ End #########################################\n"
      ]
    },
    {
      "cell_type": "markdown",
      "metadata": {
        "id": "gTd2YL2pfX7t"
      },
      "source": [
        "# D. Adversarial Training"
      ]
    },
    {
      "cell_type": "code",
      "execution_count": null,
      "metadata": {
        "id": "X2jViG3rfX7t"
      },
      "outputs": [],
      "source": [
        "########################### Problem 6 (1 points) #############################\n",
        "# Load a new resnet model for adversarial training                           #\n",
        "##############################################################################\n",
        "\n",
        "# Your code goes here\n",
        "adv_model = resnet(len(classes)).to(device)\n",
        "\n",
        "################################ End #########################################"
      ]
    },
    {
      "cell_type": "code",
      "execution_count": null,
      "metadata": {
        "id": "02kFgvQJfX7t",
        "colab": {
          "base_uri": "https://localhost:8080/"
        },
        "outputId": "9748cbe2-cfef-4be9-97ca-90e88c57259f"
      },
      "outputs": [
        {
          "output_type": "stream",
          "name": "stdout",
          "text": [
            "\n",
            "Epoch: 0\n",
            "Train Loss: 2.2312404536225303 | Acc: 20.732% (10366/50000)\n",
            "Clean accuracy of the network on the 10000 test images: 30 %\n",
            "\n",
            "Epoch: 1\n",
            "Train Loss: 2.2151096531802126 | Acc: 22.544% (11272/50000)\n",
            "Clean accuracy of the network on the 10000 test images: 34 %\n",
            "\n",
            "Epoch: 2\n",
            "Train Loss: 2.2011242071381005 | Acc: 23.98% (11990/50000)\n",
            "Clean accuracy of the network on the 10000 test images: 35 %\n",
            "\n",
            "Epoch: 3\n",
            "Train Loss: 2.1900379285787985 | Acc: 25.12% (12560/50000)\n",
            "Clean accuracy of the network on the 10000 test images: 36 %\n",
            "\n",
            "Epoch: 4\n",
            "Train Loss: 2.1816958003031934 | Acc: 26.028% (13014/50000)\n",
            "Clean accuracy of the network on the 10000 test images: 38 %\n",
            "\n",
            "Epoch: 5\n",
            "Train Loss: 2.174307018899552 | Acc: 27.048% (13524/50000)\n",
            "Clean accuracy of the network on the 10000 test images: 40 %\n",
            "\n",
            "Epoch: 6\n",
            "Train Loss: 2.165191930883071 | Acc: 27.852% (13926/50000)\n",
            "Clean accuracy of the network on the 10000 test images: 40 %\n",
            "\n",
            "Epoch: 7\n",
            "Train Loss: 2.159554780291779 | Acc: 28.602% (14301/50000)\n",
            "Clean accuracy of the network on the 10000 test images: 41 %\n",
            "\n",
            "Epoch: 8\n",
            "Train Loss: 2.1524726838407005 | Acc: 29.184% (14592/50000)\n",
            "Clean accuracy of the network on the 10000 test images: 41 %\n",
            "\n",
            "Epoch: 9\n",
            "Train Loss: 2.145363638163223 | Acc: 29.952% (14976/50000)\n",
            "Clean accuracy of the network on the 10000 test images: 41 %\n",
            "\n",
            "Epoch: 10\n",
            "Train Loss: 2.138663391323041 | Acc: 30.706% (15353/50000)\n",
            "Clean accuracy of the network on the 10000 test images: 43 %\n",
            "\n",
            "Epoch: 11\n",
            "Train Loss: 2.1322369301105706 | Acc: 31.51% (15755/50000)\n",
            "Clean accuracy of the network on the 10000 test images: 42 %\n",
            "\n",
            "Epoch: 12\n",
            "Train Loss: 2.1258574965055033 | Acc: 32.154% (16077/50000)\n",
            "Clean accuracy of the network on the 10000 test images: 43 %\n",
            "\n",
            "Epoch: 13\n",
            "Train Loss: 2.12089070456717 | Acc: 32.76% (16380/50000)\n",
            "Clean accuracy of the network on the 10000 test images: 44 %\n",
            "\n",
            "Epoch: 14\n",
            "Train Loss: 2.1127868735271953 | Acc: 33.526% (16763/50000)\n",
            "Clean accuracy of the network on the 10000 test images: 44 %\n",
            "\n",
            "Epoch: 15\n",
            "Train Loss: 2.1075744384999777 | Acc: 34.14% (17070/50000)\n",
            "Clean accuracy of the network on the 10000 test images: 44 %\n",
            "\n",
            "Epoch: 16\n",
            "Train Loss: 2.1021568183703803 | Acc: 34.684% (17342/50000)\n",
            "Clean accuracy of the network on the 10000 test images: 44 %\n",
            "\n",
            "Epoch: 17\n",
            "Train Loss: 2.097011144203908 | Acc: 35.266% (17633/50000)\n",
            "Clean accuracy of the network on the 10000 test images: 45 %\n",
            "\n",
            "Epoch: 18\n",
            "Train Loss: 2.0897866697872387 | Acc: 35.996% (17998/50000)\n",
            "Clean accuracy of the network on the 10000 test images: 45 %\n",
            "\n",
            "Epoch: 19\n",
            "Train Loss: 2.083383037915925 | Acc: 36.754% (18377/50000)\n",
            "Clean accuracy of the network on the 10000 test images: 45 %\n",
            "\n",
            "Epoch: 20\n",
            "Train Loss: 2.0779248540053894 | Acc: 37.228% (18614/50000)\n",
            "Clean accuracy of the network on the 10000 test images: 45 %\n",
            "\n",
            "Epoch: 21\n",
            "Train Loss: 2.071119524633793 | Acc: 38.092% (19046/50000)\n",
            "Clean accuracy of the network on the 10000 test images: 46 %\n",
            "\n",
            "Epoch: 22\n",
            "Train Loss: 2.06680385322522 | Acc: 38.496% (19248/50000)\n",
            "Clean accuracy of the network on the 10000 test images: 46 %\n",
            "\n",
            "Epoch: 23\n",
            "Train Loss: 2.0590728091461883 | Acc: 39.374% (19687/50000)\n",
            "Clean accuracy of the network on the 10000 test images: 47 %\n",
            "\n",
            "Epoch: 24\n",
            "Clean accuracy of the network on the 10000 test images: 48 %\n",
            "\n",
            "Epoch: 25\n",
            "Train Loss: 2.0490617779514673 | Acc: 40.388% (20194/50000)\n",
            "Clean accuracy of the network on the 10000 test images: 48 %\n",
            "\n",
            "Epoch: 26\n",
            "Train Loss: 2.04256942205112 | Acc: 41.132% (20566/50000)\n",
            "Clean accuracy of the network on the 10000 test images: 47 %\n",
            "\n",
            "Epoch: 27\n",
            "Train Loss: 2.0374579889999938 | Acc: 41.62% (20810/50000)\n",
            "Clean accuracy of the network on the 10000 test images: 47 %\n",
            "\n",
            "Epoch: 28\n",
            "Train Loss: 2.03140471719415 | Acc: 42.404% (21202/50000)\n",
            "Clean accuracy of the network on the 10000 test images: 47 %\n",
            "\n",
            "Epoch: 29\n",
            "Train Loss: 2.027031995756242 | Acc: 42.778% (21389/50000)\n",
            "Clean accuracy of the network on the 10000 test images: 47 %\n",
            "\n",
            "Epoch: 30\n",
            "Train Loss: 2.0216272285832164 | Acc: 43.35% (21675/50000)\n",
            "Clean accuracy of the network on the 10000 test images: 49 %\n",
            "\n",
            "Epoch: 31\n",
            "Train Loss: 2.016467549002079 | Acc: 43.88% (21940/50000)\n",
            "Clean accuracy of the network on the 10000 test images: 48 %\n",
            "\n",
            "Epoch: 32\n",
            "Train Loss: 2.0114601332208384 | Acc: 44.436% (22218/50000)\n",
            "Clean accuracy of the network on the 10000 test images: 48 %\n",
            "\n",
            "Epoch: 33\n",
            "Train Loss: 2.0068324584790203 | Acc: 44.992% (22496/50000)\n",
            "Clean accuracy of the network on the 10000 test images: 47 %\n",
            "\n",
            "Epoch: 34\n",
            "Train Loss: 2.000735041430539 | Acc: 45.566% (22783/50000)\n",
            "Clean accuracy of the network on the 10000 test images: 47 %\n",
            "\n",
            "Epoch: 35\n",
            "Train Loss: 1.9966525650390274 | Acc: 45.968% (22984/50000)\n",
            "Clean accuracy of the network on the 10000 test images: 48 %\n",
            "\n",
            "Epoch: 36\n",
            "Train Loss: 1.9904996732921552 | Acc: 46.54% (23270/50000)\n",
            "Clean accuracy of the network on the 10000 test images: 49 %\n",
            "\n",
            "Epoch: 37\n",
            "Train Loss: 1.9863176278750916 | Acc: 47.014% (23507/50000)\n",
            "Clean accuracy of the network on the 10000 test images: 48 %\n",
            "\n",
            "Epoch: 38\n",
            "Train Loss: 1.982361289851196 | Acc: 47.51% (23755/50000)\n",
            "Clean accuracy of the network on the 10000 test images: 49 %\n",
            "\n",
            "Epoch: 39\n",
            "Train Loss: 1.9750981382701709 | Acc: 48.182% (24091/50000)\n",
            "Clean accuracy of the network on the 10000 test images: 49 %\n",
            "\n",
            "Epoch: 40\n",
            "Train Loss: 1.9723971792499122 | Acc: 48.502% (24251/50000)\n",
            "Clean accuracy of the network on the 10000 test images: 49 %\n",
            "\n",
            "Epoch: 41\n",
            "Train Loss: 1.9692589858608782 | Acc: 48.81% (24405/50000)\n",
            "Clean accuracy of the network on the 10000 test images: 49 %\n",
            "\n",
            "Epoch: 42\n",
            "Train Loss: 1.9650104170869989 | Acc: 49.268% (24634/50000)\n",
            "Clean accuracy of the network on the 10000 test images: 50 %\n",
            "\n",
            "Epoch: 43\n",
            "Train Loss: 1.9609926530467274 | Acc: 49.682% (24841/50000)\n",
            "Clean accuracy of the network on the 10000 test images: 51 %\n",
            "\n",
            "Epoch: 44\n",
            "Train Loss: 1.9587958944423118 | Acc: 49.914% (24957/50000)\n",
            "Clean accuracy of the network on the 10000 test images: 49 %\n",
            "\n",
            "Epoch: 45\n",
            "Train Loss: 1.9534960174194687 | Acc: 50.472% (25236/50000)\n",
            "Clean accuracy of the network on the 10000 test images: 49 %\n",
            "\n",
            "Epoch: 46\n",
            "Train Loss: 1.9510790932818751 | Acc: 50.718% (25359/50000)\n",
            "Clean accuracy of the network on the 10000 test images: 49 %\n",
            "\n",
            "Epoch: 47\n",
            "Train Loss: 1.9477286030874228 | Acc: 50.952% (25476/50000)\n",
            "Clean accuracy of the network on the 10000 test images: 49 %\n",
            "\n",
            "Epoch: 48\n",
            "Train Loss: 1.9432369656575001 | Acc: 51.58% (25790/50000)\n",
            "Clean accuracy of the network on the 10000 test images: 50 %\n",
            "\n",
            "Epoch: 49\n",
            "Train Loss: 1.9408794912840703 | Acc: 51.718% (25859/50000)\n",
            "Clean accuracy of the network on the 10000 test images: 51 %\n",
            "\n",
            "Epoch: 50\n",
            "Train Loss: 1.9378432346426921 | Acc: 52.082% (26041/50000)\n",
            "Clean accuracy of the network on the 10000 test images: 50 %\n",
            "\n",
            "Epoch: 51\n",
            "Train Loss: 1.933556950610617 | Acc: 52.456% (26228/50000)\n",
            "Clean accuracy of the network on the 10000 test images: 52 %\n",
            "\n",
            "Epoch: 52\n",
            "Train Loss: 1.9314205195287915 | Acc: 52.684% (26342/50000)\n",
            "Clean accuracy of the network on the 10000 test images: 50 %\n",
            "\n",
            "Epoch: 53\n",
            "Train Loss: 1.9296605867498062 | Acc: 52.848% (26424/50000)\n",
            "Clean accuracy of the network on the 10000 test images: 52 %\n",
            "\n",
            "Epoch: 54\n",
            "Train Loss: 1.9276052350583284 | Acc: 53.018% (26509/50000)\n",
            "Clean accuracy of the network on the 10000 test images: 51 %\n",
            "\n",
            "Epoch: 55\n",
            "Train Loss: 1.9238337534467886 | Acc: 53.472% (26736/50000)\n",
            "Clean accuracy of the network on the 10000 test images: 51 %\n",
            "\n",
            "Epoch: 56\n",
            "Train Loss: 1.921491764085677 | Acc: 53.63% (26815/50000)\n",
            "Clean accuracy of the network on the 10000 test images: 51 %\n",
            "\n",
            "Epoch: 57\n",
            "Train Loss: 1.917998791655616 | Acc: 53.988% (26994/50000)\n",
            "Clean accuracy of the network on the 10000 test images: 51 %\n",
            "\n",
            "Epoch: 58\n",
            "Train Loss: 1.9181751180487825 | Acc: 54.042% (27021/50000)\n",
            "Clean accuracy of the network on the 10000 test images: 52 %\n",
            "\n",
            "Epoch: 59\n",
            "Train Loss: 1.9147136927870534 | Acc: 54.384% (27192/50000)\n",
            "Clean accuracy of the network on the 10000 test images: 50 %\n",
            "\n",
            "Epoch: 60\n",
            "Train Loss: 1.9114687494609668 | Acc: 54.716% (27358/50000)\n",
            "Clean accuracy of the network on the 10000 test images: 52 %\n",
            "\n",
            "Epoch: 61\n",
            "Train Loss: 1.9091421594400235 | Acc: 55.002% (27501/50000)\n",
            "Clean accuracy of the network on the 10000 test images: 52 %\n",
            "\n",
            "Epoch: 62\n",
            "Train Loss: 1.905024834910927 | Acc: 55.366% (27683/50000)\n",
            "Clean accuracy of the network on the 10000 test images: 52 %\n",
            "\n",
            "Epoch: 63\n",
            "Train Loss: 1.9024660706215197 | Acc: 55.594% (27797/50000)\n",
            "Clean accuracy of the network on the 10000 test images: 51 %\n",
            "\n",
            "Epoch: 64\n",
            "Train Loss: 1.9005250116748273 | Acc: 55.858% (27929/50000)\n",
            "Clean accuracy of the network on the 10000 test images: 52 %\n",
            "\n",
            "Epoch: 65\n",
            "Train Loss: 1.8981441646585684 | Acc: 56.094% (28047/50000)\n",
            "Clean accuracy of the network on the 10000 test images: 52 %\n",
            "\n",
            "Epoch: 66\n",
            "Train Loss: 1.8962949627195782 | Acc: 56.27% (28135/50000)\n",
            "Clean accuracy of the network on the 10000 test images: 52 %\n",
            "\n",
            "Epoch: 67\n",
            "Train Loss: 1.8941632247032107 | Acc: 56.468% (28234/50000)\n",
            "Clean accuracy of the network on the 10000 test images: 52 %\n",
            "\n",
            "Epoch: 68\n",
            "Train Loss: 1.8929269289421609 | Acc: 56.572% (28286/50000)\n",
            "Clean accuracy of the network on the 10000 test images: 53 %\n",
            "\n",
            "Epoch: 69\n",
            "Train Loss: 1.8895654263703718 | Acc: 56.96% (28480/50000)\n",
            "Clean accuracy of the network on the 10000 test images: 52 %\n",
            "\n",
            "Epoch: 70\n",
            "Train Loss: 1.8908020209168535 | Acc: 56.876% (28438/50000)\n",
            "Clean accuracy of the network on the 10000 test images: 51 %\n",
            "\n",
            "Epoch: 71\n",
            "Train Loss: 1.8885022206684512 | Acc: 57.006% (28503/50000)\n",
            "Clean accuracy of the network on the 10000 test images: 52 %\n",
            "\n",
            "Epoch: 72\n",
            "Train Loss: 1.8835776522946175 | Acc: 57.532% (28766/50000)\n",
            "Clean accuracy of the network on the 10000 test images: 52 %\n",
            "\n",
            "Epoch: 73\n",
            "Train Loss: 1.8843711931687182 | Acc: 57.454% (28727/50000)\n",
            "Clean accuracy of the network on the 10000 test images: 53 %\n",
            "\n",
            "Epoch: 74\n",
            "Train Loss: 1.8821295277236978 | Acc: 57.71% (28855/50000)\n",
            "Clean accuracy of the network on the 10000 test images: 52 %\n",
            "\n",
            "Epoch: 75\n",
            "Train Loss: 1.878435933376517 | Acc: 58.066% (29033/50000)\n",
            "Clean accuracy of the network on the 10000 test images: 53 %\n",
            "\n",
            "Epoch: 76\n",
            "Train Loss: 1.8753319106748343 | Acc: 58.406% (29203/50000)\n",
            "Clean accuracy of the network on the 10000 test images: 52 %\n",
            "\n",
            "Epoch: 77\n",
            "Train Loss: 1.8743776086041384 | Acc: 58.41% (29205/50000)\n",
            "Clean accuracy of the network on the 10000 test images: 54 %\n",
            "\n",
            "Epoch: 78\n",
            "Train Loss: 1.874496539840308 | Acc: 58.462% (29231/50000)\n",
            "Clean accuracy of the network on the 10000 test images: 53 %\n",
            "\n",
            "Epoch: 79\n",
            "Train Loss: 1.8715843001899817 | Acc: 58.808% (29404/50000)\n",
            "Clean accuracy of the network on the 10000 test images: 53 %\n",
            "\n",
            "Epoch: 80\n",
            "Train Loss: 1.8686639756497825 | Acc: 59.062% (29531/50000)\n",
            "Clean accuracy of the network on the 10000 test images: 53 %\n",
            "\n",
            "Epoch: 81\n",
            "Train Loss: 1.8696165222036258 | Acc: 58.986% (29493/50000)\n",
            "Clean accuracy of the network on the 10000 test images: 54 %\n",
            "\n",
            "Epoch: 82\n",
            "Train Loss: 1.8651659534410443 | Acc: 59.456% (29728/50000)\n",
            "Clean accuracy of the network on the 10000 test images: 54 %\n",
            "\n",
            "Epoch: 83\n",
            "Train Loss: 1.8656652821299364 | Acc: 59.37% (29685/50000)\n",
            "Clean accuracy of the network on the 10000 test images: 54 %\n",
            "\n",
            "Epoch: 84\n",
            "Train Loss: 1.8658005063186216 | Acc: 59.364% (29682/50000)\n",
            "Clean accuracy of the network on the 10000 test images: 55 %\n",
            "\n",
            "Epoch: 85\n",
            "Train Loss: 1.8591755006624304 | Acc: 60.022% (30011/50000)\n",
            "Clean accuracy of the network on the 10000 test images: 54 %\n",
            "\n",
            "Epoch: 86\n",
            "Train Loss: 1.8587851890212739 | Acc: 60.096% (30048/50000)\n",
            "Clean accuracy of the network on the 10000 test images: 54 %\n",
            "\n",
            "Epoch: 87\n",
            "Train Loss: 1.8569545218401857 | Acc: 60.236% (30118/50000)\n",
            "Clean accuracy of the network on the 10000 test images: 54 %\n",
            "\n",
            "Epoch: 88\n",
            "Train Loss: 1.8569264539977168 | Acc: 60.254% (30127/50000)\n",
            "Clean accuracy of the network on the 10000 test images: 55 %\n",
            "\n",
            "Epoch: 89\n",
            "Train Loss: 1.8565115224369957 | Acc: 60.238% (30119/50000)\n",
            "Clean accuracy of the network on the 10000 test images: 54 %\n",
            "\n",
            "Epoch: 90\n",
            "Train Loss: 1.854184344296565 | Acc: 60.574% (30287/50000)\n",
            "Clean accuracy of the network on the 10000 test images: 54 %\n",
            "\n",
            "Epoch: 91\n",
            "Train Loss: 1.8509825184522077 | Acc: 60.944% (30472/50000)\n",
            "Clean accuracy of the network on the 10000 test images: 54 %\n",
            "\n",
            "Epoch: 92\n",
            "Train Loss: 1.8499261165214012 | Acc: 61.028% (30514/50000)\n",
            "Clean accuracy of the network on the 10000 test images: 54 %\n",
            "\n",
            "Epoch: 93\n",
            "Train Loss: 1.8485765969356918 | Acc: 61.07% (30535/50000)\n",
            "Clean accuracy of the network on the 10000 test images: 54 %\n",
            "\n",
            "Epoch: 94\n",
            "Train Loss: 1.8468624999760972 | Acc: 61.288% (30644/50000)\n",
            "Clean accuracy of the network on the 10000 test images: 55 %\n",
            "\n",
            "Epoch: 95\n",
            "Train Loss: 1.8440928346360737 | Acc: 61.586% (30793/50000)\n",
            "Clean accuracy of the network on the 10000 test images: 54 %\n",
            "\n",
            "Epoch: 96\n",
            "Train Loss: 1.842166653984343 | Acc: 61.8% (30900/50000)\n",
            "Clean accuracy of the network on the 10000 test images: 55 %\n",
            "\n",
            "Epoch: 97\n",
            "Train Loss: 1.8427630342790842 | Acc: 61.674% (30837/50000)\n",
            "Clean accuracy of the network on the 10000 test images: 54 %\n",
            "\n",
            "Epoch: 98\n",
            "Train Loss: 1.8376533472934342 | Acc: 62.2% (31100/50000)\n",
            "Clean accuracy of the network on the 10000 test images: 54 %\n",
            "\n",
            "Epoch: 99\n",
            "Train Loss: 1.83852771694398 | Acc: 62.124% (31062/50000)\n",
            "Clean accuracy of the network on the 10000 test images: 55 %\n"
          ]
        }
      ],
      "source": [
        "########################### Problem 6 (6 points) #############################\n",
        "# Train the model on perturbed images from                                   #\n",
        "# untargeted FGSM attack with epsilon = 8/255 on train dataset               #\n",
        "# Also use the following setup for training the model                        #\n",
        "##############################################################################\n",
        "\n",
        "learning_rate = 0.01\n",
        "criterion = nn.CrossEntropyLoss()\n",
        "optimizer = optim.SGD(adv_model.parameters(), lr=learning_rate, momentum=0.9)\n",
        "epochs = 100\n",
        "\n",
        "##############################################################################\n",
        "\n",
        "# Your code goes here\n",
        "def adversarial_training(epoch, net, optimizer, trainloader, criterion):\n",
        "    acc = None\n",
        "    avg_loss = None\n",
        "\n",
        "    print('\\nEpoch: %d' % epoch)\n",
        "    net.train()\n",
        "    train_loss = 0\n",
        "    correct = 0\n",
        "    total = 0\n",
        "    for batch_idx, (inputs, targets) in enumerate(trainloader):\n",
        "        inputs, targets = inputs.to(device), targets.to(device)\n",
        "        inputs, _, _ = FGSM (net, inputs, targets, epsilon)\n",
        "        optimizer.zero_grad()\n",
        "        _, outputs = net(inputs)\n",
        "        loss = criterion(outputs, targets)\n",
        "        loss.backward()\n",
        "        optimizer.step()\n",
        "\n",
        "        train_loss += loss.item()\n",
        "        _, predicted = outputs.max(1)\n",
        "        total += targets.size(0)\n",
        "        correct += predicted.eq(targets).sum().item()\n",
        "\n",
        "    avg_loss = train_loss / (batch_idx + 1)\n",
        "    acc = 100. * correct / total\n",
        "    print(f'Train Loss: {avg_loss} | Acc: {acc}% ({correct}/{total})')\n",
        "    return avg_loss, acc\n",
        "\n",
        "\n",
        "train_loss_list = []\n",
        "train_acc_list = []\n",
        "test_acc_list = []\n",
        "\n",
        "for epoch in range(epochs):\n",
        "    train_loss, train_acc = adversarial_training(epoch, adv_model, optimizer, trainloader, criterion)\n",
        "    test_acc = standard_test(adv_model, testloader, device=device)\n",
        "\n",
        "    train_loss_list.append(train_loss)\n",
        "    train_acc_list.append(train_acc)\n",
        "    test_acc_list.append(test_acc)\n",
        "\n",
        "\n",
        "\n",
        "################################ End #########################################"
      ]
    },
    {
      "cell_type": "code",
      "source": [
        "# torch.save(adv_model, 'model.pth')\n",
        "\n",
        "adv_model = torch.load('model.pth')\n",
        "adv_model = adv_model.to(device)\n",
        "adv_model.eval()\n"
      ],
      "metadata": {
        "colab": {
          "base_uri": "https://localhost:8080/"
        },
        "id": "NnvxXB1B1rKa",
        "outputId": "3dc2c15a-d479-4d69-8cab-cea6e7d8f5d1"
      },
      "execution_count": 28,
      "outputs": [
        {
          "output_type": "execute_result",
          "data": {
            "text/plain": [
              "resnet(\n",
              "  (conv): Sequential(\n",
              "    (0): Conv2d(3, 64, kernel_size=(7, 7), stride=(2, 2), padding=(3, 3), bias=False)\n",
              "    (1): BatchNorm2d(64, eps=1e-05, momentum=0.1, affine=True, track_running_stats=True)\n",
              "    (2): ReLU(inplace=True)\n",
              "    (3): MaxPool2d(kernel_size=3, stride=2, padding=1, dilation=1, ceil_mode=False)\n",
              "    (4): Sequential(\n",
              "      (0): BasicBlock(\n",
              "        (conv1): Conv2d(64, 64, kernel_size=(3, 3), stride=(1, 1), padding=(1, 1), bias=False)\n",
              "        (bn1): BatchNorm2d(64, eps=1e-05, momentum=0.1, affine=True, track_running_stats=True)\n",
              "        (relu): ReLU(inplace=True)\n",
              "        (conv2): Conv2d(64, 64, kernel_size=(3, 3), stride=(1, 1), padding=(1, 1), bias=False)\n",
              "        (bn2): BatchNorm2d(64, eps=1e-05, momentum=0.1, affine=True, track_running_stats=True)\n",
              "      )\n",
              "      (1): BasicBlock(\n",
              "        (conv1): Conv2d(64, 64, kernel_size=(3, 3), stride=(1, 1), padding=(1, 1), bias=False)\n",
              "        (bn1): BatchNorm2d(64, eps=1e-05, momentum=0.1, affine=True, track_running_stats=True)\n",
              "        (relu): ReLU(inplace=True)\n",
              "        (conv2): Conv2d(64, 64, kernel_size=(3, 3), stride=(1, 1), padding=(1, 1), bias=False)\n",
              "        (bn2): BatchNorm2d(64, eps=1e-05, momentum=0.1, affine=True, track_running_stats=True)\n",
              "      )\n",
              "    )\n",
              "    (5): Sequential(\n",
              "      (0): BasicBlock(\n",
              "        (conv1): Conv2d(64, 128, kernel_size=(3, 3), stride=(2, 2), padding=(1, 1), bias=False)\n",
              "        (bn1): BatchNorm2d(128, eps=1e-05, momentum=0.1, affine=True, track_running_stats=True)\n",
              "        (relu): ReLU(inplace=True)\n",
              "        (conv2): Conv2d(128, 128, kernel_size=(3, 3), stride=(1, 1), padding=(1, 1), bias=False)\n",
              "        (bn2): BatchNorm2d(128, eps=1e-05, momentum=0.1, affine=True, track_running_stats=True)\n",
              "        (downsample): Sequential(\n",
              "          (0): Conv2d(64, 128, kernel_size=(1, 1), stride=(2, 2), bias=False)\n",
              "          (1): BatchNorm2d(128, eps=1e-05, momentum=0.1, affine=True, track_running_stats=True)\n",
              "        )\n",
              "      )\n",
              "      (1): BasicBlock(\n",
              "        (conv1): Conv2d(128, 128, kernel_size=(3, 3), stride=(1, 1), padding=(1, 1), bias=False)\n",
              "        (bn1): BatchNorm2d(128, eps=1e-05, momentum=0.1, affine=True, track_running_stats=True)\n",
              "        (relu): ReLU(inplace=True)\n",
              "        (conv2): Conv2d(128, 128, kernel_size=(3, 3), stride=(1, 1), padding=(1, 1), bias=False)\n",
              "        (bn2): BatchNorm2d(128, eps=1e-05, momentum=0.1, affine=True, track_running_stats=True)\n",
              "      )\n",
              "    )\n",
              "    (6): Sequential(\n",
              "      (0): BasicBlock(\n",
              "        (conv1): Conv2d(128, 256, kernel_size=(3, 3), stride=(2, 2), padding=(1, 1), bias=False)\n",
              "        (bn1): BatchNorm2d(256, eps=1e-05, momentum=0.1, affine=True, track_running_stats=True)\n",
              "        (relu): ReLU(inplace=True)\n",
              "        (conv2): Conv2d(256, 256, kernel_size=(3, 3), stride=(1, 1), padding=(1, 1), bias=False)\n",
              "        (bn2): BatchNorm2d(256, eps=1e-05, momentum=0.1, affine=True, track_running_stats=True)\n",
              "        (downsample): Sequential(\n",
              "          (0): Conv2d(128, 256, kernel_size=(1, 1), stride=(2, 2), bias=False)\n",
              "          (1): BatchNorm2d(256, eps=1e-05, momentum=0.1, affine=True, track_running_stats=True)\n",
              "        )\n",
              "      )\n",
              "      (1): BasicBlock(\n",
              "        (conv1): Conv2d(256, 256, kernel_size=(3, 3), stride=(1, 1), padding=(1, 1), bias=False)\n",
              "        (bn1): BatchNorm2d(256, eps=1e-05, momentum=0.1, affine=True, track_running_stats=True)\n",
              "        (relu): ReLU(inplace=True)\n",
              "        (conv2): Conv2d(256, 256, kernel_size=(3, 3), stride=(1, 1), padding=(1, 1), bias=False)\n",
              "        (bn2): BatchNorm2d(256, eps=1e-05, momentum=0.1, affine=True, track_running_stats=True)\n",
              "      )\n",
              "    )\n",
              "    (7): Sequential(\n",
              "      (0): BasicBlock(\n",
              "        (conv1): Conv2d(256, 512, kernel_size=(3, 3), stride=(2, 2), padding=(1, 1), bias=False)\n",
              "        (bn1): BatchNorm2d(512, eps=1e-05, momentum=0.1, affine=True, track_running_stats=True)\n",
              "        (relu): ReLU(inplace=True)\n",
              "        (conv2): Conv2d(512, 512, kernel_size=(3, 3), stride=(1, 1), padding=(1, 1), bias=False)\n",
              "        (bn2): BatchNorm2d(512, eps=1e-05, momentum=0.1, affine=True, track_running_stats=True)\n",
              "        (downsample): Sequential(\n",
              "          (0): Conv2d(256, 512, kernel_size=(1, 1), stride=(2, 2), bias=False)\n",
              "          (1): BatchNorm2d(512, eps=1e-05, momentum=0.1, affine=True, track_running_stats=True)\n",
              "        )\n",
              "      )\n",
              "      (1): BasicBlock(\n",
              "        (conv1): Conv2d(512, 512, kernel_size=(3, 3), stride=(1, 1), padding=(1, 1), bias=False)\n",
              "        (bn1): BatchNorm2d(512, eps=1e-05, momentum=0.1, affine=True, track_running_stats=True)\n",
              "        (relu): ReLU(inplace=True)\n",
              "        (conv2): Conv2d(512, 512, kernel_size=(3, 3), stride=(1, 1), padding=(1, 1), bias=False)\n",
              "        (bn2): BatchNorm2d(512, eps=1e-05, momentum=0.1, affine=True, track_running_stats=True)\n",
              "      )\n",
              "    )\n",
              "  )\n",
              "  (fc): Linear(in_features=512, out_features=10, bias=True)\n",
              ")"
            ]
          },
          "metadata": {},
          "execution_count": 28
        }
      ]
    },
    {
      "cell_type": "code",
      "execution_count": 29,
      "metadata": {
        "id": "s-JqIeWofX7t",
        "colab": {
          "base_uri": "https://localhost:8080/"
        },
        "outputId": "4acca81a-43c3-4e3b-8c1f-58a613e75655"
      },
      "outputs": [
        {
          "output_type": "stream",
          "name": "stdout",
          "text": [
            "Clean accuracy of the network on the 10000 test images: 55 %\n"
          ]
        }
      ],
      "source": [
        "########################### Problem 7 (2 points) #############################\n",
        "# Evaluate the new model on the test dataset                                 #\n",
        "##############################################################################\n",
        "\n",
        "# Your code goes here\n",
        "standard_test(adv_model, testloader, device=device)\n",
        "################################ End #########################################"
      ]
    },
    {
      "cell_type": "code",
      "execution_count": 37,
      "metadata": {
        "id": "2egyYCDLfX7t",
        "colab": {
          "base_uri": "https://localhost:8080/"
        },
        "outputId": "3bbf0d0c-2faa-41bd-eefb-cb93efeb91f4"
      },
      "outputs": [
        {
          "output_type": "stream",
          "name": "stdout",
          "text": [
            "Accuracy of adversarial examples generated using PGD attack with k=2: 0.39\n",
            "Accuracy of adversarial examples generated using PGD attack with k=4: 0.29\n",
            "Accuracy of adversarial examples generated using PGD attack with k=8: 0.21\n"
          ]
        }
      ],
      "source": [
        "########################### Problem 8 (3 points) #############################\n",
        "#  Run PGD attack on the adversarially trained model with k=2,4,8            #\n",
        "##############################################################################\n",
        "\n",
        "k_list = [2,4,8]\n",
        "\n",
        "##############################################################################\n",
        "\n",
        "# Your code goes here\n",
        "\n",
        "for k in k_list:\n",
        "    pgd_attack = LinfPGDAttack(model=adv_model, k=k)\n",
        "    success_rate = 0\n",
        "    total_samples = 0\n",
        "\n",
        "    for inputs, labels in testloader_adversarial_example:\n",
        "        labels = labels.to(device)\n",
        "        adversarial_inputs = pgd_attack(inputs, labels)\n",
        "        _, predictions = adv_model(adversarial_inputs)\n",
        "        success_rate += (predictions.argmax(1) == labels).float().sum().item()\n",
        "        total_samples += labels.size(0)\n",
        "\n",
        "    success_rate /= total_samples\n",
        "    print(f\"Accuracy of adversarial examples generated using PGD attack with k={k}: {success_rate:.2f}\")\n",
        "################################ End #########################################"
      ]
    },
    {
      "cell_type": "code",
      "execution_count": 35,
      "metadata": {
        "id": "BhV8_u9jfX7t",
        "colab": {
          "base_uri": "https://localhost:8080/"
        },
        "outputId": "4d45ec37-2f48-42c1-9fc9-282713f7bd70"
      },
      "outputs": [
        {
          "output_type": "stream",
          "name": "stdout",
          "text": [
            "Accuracy of adversarial examples generated using FGSM attack with elsilon=0.03137254901960784: 0.27\n"
          ]
        }
      ],
      "source": [
        "########################### Problem 9 (1 points) #############################\n",
        "# Run FGSM attack on the adversarially trained model with epsilon = 8/255    #\n",
        "##############################################################################\n",
        "\n",
        "\n",
        "# Your code goes here\n",
        "success_rate = 0\n",
        "total_samples = 0\n",
        "epsilon = 8/255\n",
        "for inputs, labels in testloader:\n",
        "    labels = labels.to(device)\n",
        "    inputs = inputs.to(device)\n",
        "    adversarial_inputs, _, (_, predictions) = FGSM(adv_model, inputs, labels, epsilon=epsilon)\n",
        "\n",
        "    success_rate += (predictions.argmax(1) == labels).float().sum().item()\n",
        "    total_samples += labels.size(0)\n",
        "\n",
        "success_rate /= total_samples\n",
        "print(f\"Accuracy of adversarial examples generated using FGSM attack with elsilon={epsilon}: {success_rate:.2f}\")\n",
        "\n",
        "################################ End #########################################"
      ]
    },
    {
      "cell_type": "markdown",
      "metadata": {
        "id": "776L4w1TfX7u"
      },
      "source": [
        "# E. Analyze Results (5 points)"
      ]
    },
    {
      "cell_type": "markdown",
      "metadata": {
        "id": "bZJsu6I_fX7u"
      },
      "source": [
        "- Analyze the results for the 3 above cells"
      ]
    },
    {
      "cell_type": "markdown",
      "metadata": {
        "id": "5TZi3Z19fX7u"
      },
      "source": [
        "**Your Answer:**\n",
        "\n",
        "\n",
        "In the course, two types of adversarial training were explained. One of them uses both adversarial examples and clean examples to train the model, while the other only uses adversarial examples. I used the latter approach to adversarially train my model. The approach is as follows:\n",
        "\n",
        "In each epoch and for each batch, we find adversarial examples using the FGSM attack, and then we define a cross-entropy loss on these adversarial examples.\n",
        "\n",
        "In the above approach, the adversarial examples are determined based on the current version of the model. As a result, the training data changes during training, and in each epoch, the model encounters different training data. Consequently, the clean accuracy is lower than that of normal training, but if we train for more epochs, we can increase the accuracy.\n",
        "\n",
        "The clean accuracy is 55%. The accuracy of PGD attack is 39%, 29% and 21% for 2, 4, 8 steps recpectively and the accuracy of FGSM attack is 27%. As we can see from the results, the model is more robust to adversarial examples generated using the FGSM and PGD attacks. The accuracy has increased by an average of 18% compared to the standard model."
      ]
    },
    {
      "cell_type": "markdown",
      "metadata": {
        "id": "XvRVL1n4fX7u"
      },
      "source": [
        "# F. Built-In Libraries"
      ]
    },
    {
      "cell_type": "markdown",
      "metadata": {
        "id": "Z27xwxY_fX7u"
      },
      "source": [
        "Use the following library and run FGSM and PGD attack for CIFAR10 test dataset on the given model and compare the results with your own results\n",
        "\n",
        "\n",
        "https://adversarial-attacks-pytorch.readthedocs.io/en/latest/index.html"
      ]
    },
    {
      "cell_type": "code",
      "source": [
        "!pip install torchattacks"
      ],
      "metadata": {
        "id": "xPSHVquP1RT5"
      },
      "execution_count": null,
      "outputs": []
    },
    {
      "cell_type": "code",
      "execution_count": 22,
      "metadata": {
        "id": "U4khqwG0fX7u",
        "colab": {
          "base_uri": "https://localhost:8080/"
        },
        "outputId": "c1c12ef1-8103-4ebc-b4a0-678e2e434eb4"
      },
      "outputs": [
        {
          "output_type": "stream",
          "name": "stdout",
          "text": [
            "Accuracy of adversarial examples generated using FGSM attack with elsilon=0.03137254901960784: 0.12\n",
            "Accuracy of adversarial examples generated using PGD attack with k=2: 0.21\n",
            "Accuracy of adversarial examples generated using PGD attack with k=4: 0.06\n",
            "Accuracy of adversarial examples generated using PGD attack with k=8: 0.02\n"
          ]
        }
      ],
      "source": [
        "########################### Problem 10 (12 points) #############################\n",
        "# Run FGSM attack (using library) on the pretrained model for the test dataset #\n",
        "# Run PGD attack (using library) on the pretrained model for the test dataset  #\n",
        "################################################################################\n",
        "\n",
        "## The resnet class is modified (it doens't return logits anymore) in order to be used for the built-in function.\n",
        "class resnet(nn.Module):\n",
        "  def __init__(self, num_cls, T=1):\n",
        "    super().__init__()\n",
        "    self.conv = nn.Sequential(\n",
        "        *list(resnet18(weights=None).children())[:-2])\n",
        "\n",
        "    self.fc = nn.Linear(512, num_cls)\n",
        "    self.temp = T\n",
        "\n",
        "  def forward(self, x, T=None):\n",
        "    if T is None:\n",
        "      T = self.temp\n",
        "    x = self.conv(x)\n",
        "    x = torch.flatten(x, start_dim=1)\n",
        "    logits = self.fc(x)\n",
        "    output = torch.softmax(logits / T, dim=1)\n",
        "\n",
        "    return output\n",
        "# load trained Resnet18 model on CIFAR10 dataset\n",
        "model = resnet(len(classes)).to(device)\n",
        "model_name = \"resnet18_cifar10_model_pretrained.pth\"\n",
        "model_PATH = \"/content/\" + model_name\n",
        "state_dict = torch.load(model_PATH, map_location=device)\n",
        "model.load_state_dict(state_dict)\n",
        "model = model.to(device)\n",
        "\n",
        "\n",
        "import torchattacks\n",
        "\n",
        "epsilon = 8/255\n",
        "# Your code goes here\n",
        "\n",
        "\n",
        "##### FGSM Attack  ######################\n",
        "success_rate = 0\n",
        "total_samples = 0\n",
        "for inputs, labels in testloader:\n",
        "    labels = labels.to(device)\n",
        "    inputs = inputs.to(device)\n",
        "    attack = torchattacks.FGSM(model, eps=epsilon)\n",
        "    adv_images = attack(inputs, labels)\n",
        "\n",
        "    predictions = model(adv_images)\n",
        "    success_rate += (predictions.argmax(1) == labels).float().sum().item()\n",
        "    total_samples += labels.size(0)\n",
        "\n",
        "success_rate /= total_samples\n",
        "print(f\"Accuracy of adversarial examples generated using FGSM attack with elsilon={epsilon}: {success_rate:.2f}\")\n",
        "\n",
        "\n",
        "\n",
        "\n",
        "####### PGD Attack ########################\n",
        "\n",
        "\n",
        "\n",
        "k_list = [2,4,8]\n",
        "\n",
        "for k in k_list:\n",
        "    success_rate = 0\n",
        "    total_samples = 0\n",
        "\n",
        "    for inputs, labels in testloader:\n",
        "        labels = labels.to(device)\n",
        "        inputs = inputs.to(device)\n",
        "\n",
        "        attack = torchattacks.PGD(model, eps=8/255, alpha=2/255, steps=k, random_start=True)\n",
        "        adv_images = attack(inputs, labels)\n",
        "\n",
        "        # Evaluate the model on the adversarial inputs\n",
        "        predictions = model(adv_images)\n",
        "        success_rate += (predictions.argmax(1) == labels).float().sum().item()\n",
        "        total_samples += labels.size(0)\n",
        "\n",
        "    success_rate /= total_samples\n",
        "    print(f\"Accuracy of adversarial examples generated using PGD attack with k={k}: {success_rate:.2f}\")\n",
        "\n",
        "\n",
        "\n",
        "\n",
        "################################ End #########################################"
      ]
    },
    {
      "cell_type": "markdown",
      "source": [
        "The result is the same as mine."
      ],
      "metadata": {
        "id": "6BQDHLF9Qv25"
      }
    }
  ],
  "metadata": {
    "kernelspec": {
      "display_name": "Python 3",
      "name": "python3"
    },
    "language_info": {
      "codemirror_mode": {
        "name": "ipython",
        "version": 3
      },
      "file_extension": ".py",
      "mimetype": "text/x-python",
      "name": "python",
      "nbconvert_exporter": "python",
      "pygments_lexer": "ipython3",
      "version": "3.8.10"
    },
    "colab": {
      "provenance": [],
      "gpuType": "T4"
    },
    "accelerator": "GPU"
  },
  "nbformat": 4,
  "nbformat_minor": 0
}